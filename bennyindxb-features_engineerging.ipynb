{
 "cells": [
  {
   "cell_type": "code",
   "execution_count": 1,
   "metadata": {},
   "outputs": [],
   "source": [
    "import pandas as pd"
   ]
  },
  {
   "cell_type": "code",
   "execution_count": 84,
   "metadata": {},
   "outputs": [],
   "source": [
    "df_requests = pd.read_csv('raw_data/Requests.csv')\n",
    "df_bookings = pd.read_csv('raw_data/Bookings.csv')\n",
    "df_users = pd.read_csv('raw_data/Users.csv')"
   ]
  },
  {
   "cell_type": "code",
   "execution_count": 67,
   "metadata": {},
   "outputs": [
    {
     "data": {
      "text/html": [
       "<div>\n",
       "<style scoped>\n",
       "    .dataframe tbody tr th:only-of-type {\n",
       "        vertical-align: middle;\n",
       "    }\n",
       "\n",
       "    .dataframe tbody tr th {\n",
       "        vertical-align: top;\n",
       "    }\n",
       "\n",
       "    .dataframe thead th {\n",
       "        text-align: right;\n",
       "    }\n",
       "</style>\n",
       "<table border=\"1\" class=\"dataframe\">\n",
       "  <thead>\n",
       "    <tr style=\"text-align: right;\">\n",
       "      <th></th>\n",
       "      <th>id_log</th>\n",
       "      <th>id_user</th>\n",
       "      <th>log_date</th>\n",
       "      <th>user_agent</th>\n",
       "      <th>referer_source</th>\n",
       "    </tr>\n",
       "  </thead>\n",
       "  <tbody>\n",
       "    <tr>\n",
       "      <th>0</th>\n",
       "      <td>5</td>\n",
       "      <td>1</td>\n",
       "      <td>4/23/2012 9:07</td>\n",
       "      <td>Mozilla/4.0 (compatible; MSIE 7.0; Windows NT ...</td>\n",
       "      <td>www.bing.com</td>\n",
       "    </tr>\n",
       "    <tr>\n",
       "      <th>1</th>\n",
       "      <td>10</td>\n",
       "      <td>1</td>\n",
       "      <td>4/23/2012 9:41</td>\n",
       "      <td>Mozilla/5.0 (Windows NT 6.1; WOW64; rv:11.0) G...</td>\n",
       "      <td>www.google.com</td>\n",
       "    </tr>\n",
       "    <tr>\n",
       "      <th>2</th>\n",
       "      <td>22</td>\n",
       "      <td>1</td>\n",
       "      <td>4/23/2012 10:57</td>\n",
       "      <td>Mozilla/5.0 (Windows NT 6.1; WOW64; rv:11.0) G...</td>\n",
       "      <td>NaN</td>\n",
       "    </tr>\n",
       "    <tr>\n",
       "      <th>3</th>\n",
       "      <td>180</td>\n",
       "      <td>1</td>\n",
       "      <td>4/24/2012 16:18</td>\n",
       "      <td>Mozilla/5.0 (Windows NT 6.1; WOW64; rv:11.0) G...</td>\n",
       "      <td>NaN</td>\n",
       "    </tr>\n",
       "    <tr>\n",
       "      <th>4</th>\n",
       "      <td>777</td>\n",
       "      <td>1</td>\n",
       "      <td>5/7/2012 17:03</td>\n",
       "      <td>Mozilla/5.0 (Windows NT 6.1; WOW64; rv:11.0) G...</td>\n",
       "      <td>NaN</td>\n",
       "    </tr>\n",
       "    <tr>\n",
       "      <th>...</th>\n",
       "      <td>...</td>\n",
       "      <td>...</td>\n",
       "      <td>...</td>\n",
       "      <td>...</td>\n",
       "      <td>...</td>\n",
       "    </tr>\n",
       "    <tr>\n",
       "      <th>240893</th>\n",
       "      <td>345457</td>\n",
       "      <td>298570</td>\n",
       "      <td>12/16/2022 1:13</td>\n",
       "      <td>Mozilla/5.0 (Macintosh; Intel Mac OS X 10_15_7...</td>\n",
       "      <td>www.google.com</td>\n",
       "    </tr>\n",
       "    <tr>\n",
       "      <th>240894</th>\n",
       "      <td>345458</td>\n",
       "      <td>298571</td>\n",
       "      <td>12/16/2022 1:52</td>\n",
       "      <td>Mozilla/5.0 (iPhone; CPU iPhone OS 16_0 like M...</td>\n",
       "      <td>www.google.com</td>\n",
       "    </tr>\n",
       "    <tr>\n",
       "      <th>240895</th>\n",
       "      <td>345459</td>\n",
       "      <td>298572</td>\n",
       "      <td>12/16/2022 3:41</td>\n",
       "      <td>Mozilla/5.0 (Macintosh; Intel Mac OS X 10_15_7...</td>\n",
       "      <td>www.google.com</td>\n",
       "    </tr>\n",
       "    <tr>\n",
       "      <th>240896</th>\n",
       "      <td>345460</td>\n",
       "      <td>298573</td>\n",
       "      <td>12/16/2022 3:41</td>\n",
       "      <td>Mozilla/5.0 (Windows NT 10.0; Win64; x64) Appl...</td>\n",
       "      <td>www.google.com</td>\n",
       "    </tr>\n",
       "    <tr>\n",
       "      <th>240897</th>\n",
       "      <td>345461</td>\n",
       "      <td>298574</td>\n",
       "      <td>12/16/2022 4:49</td>\n",
       "      <td>Mozilla/5.0 (Windows NT 10.0; Win64; x64) Appl...</td>\n",
       "      <td>www.google.com</td>\n",
       "    </tr>\n",
       "  </tbody>\n",
       "</table>\n",
       "<p>240898 rows × 5 columns</p>\n",
       "</div>"
      ],
      "text/plain": [
       "        id_log  id_user         log_date  \\\n",
       "0            5        1   4/23/2012 9:07   \n",
       "1           10        1   4/23/2012 9:41   \n",
       "2           22        1  4/23/2012 10:57   \n",
       "3          180        1  4/24/2012 16:18   \n",
       "4          777        1   5/7/2012 17:03   \n",
       "...        ...      ...              ...   \n",
       "240893  345457   298570  12/16/2022 1:13   \n",
       "240894  345458   298571  12/16/2022 1:52   \n",
       "240895  345459   298572  12/16/2022 3:41   \n",
       "240896  345460   298573  12/16/2022 3:41   \n",
       "240897  345461   298574  12/16/2022 4:49   \n",
       "\n",
       "                                               user_agent  referer_source  \n",
       "0       Mozilla/4.0 (compatible; MSIE 7.0; Windows NT ...    www.bing.com  \n",
       "1       Mozilla/5.0 (Windows NT 6.1; WOW64; rv:11.0) G...  www.google.com  \n",
       "2       Mozilla/5.0 (Windows NT 6.1; WOW64; rv:11.0) G...             NaN  \n",
       "3       Mozilla/5.0 (Windows NT 6.1; WOW64; rv:11.0) G...             NaN  \n",
       "4       Mozilla/5.0 (Windows NT 6.1; WOW64; rv:11.0) G...             NaN  \n",
       "...                                                   ...             ...  \n",
       "240893  Mozilla/5.0 (Macintosh; Intel Mac OS X 10_15_7...  www.google.com  \n",
       "240894  Mozilla/5.0 (iPhone; CPU iPhone OS 16_0 like M...  www.google.com  \n",
       "240895  Mozilla/5.0 (Macintosh; Intel Mac OS X 10_15_7...  www.google.com  \n",
       "240896  Mozilla/5.0 (Windows NT 10.0; Win64; x64) Appl...  www.google.com  \n",
       "240897  Mozilla/5.0 (Windows NT 10.0; Win64; x64) Appl...  www.google.com  \n",
       "\n",
       "[240898 rows x 5 columns]"
      ]
     },
     "execution_count": 67,
     "metadata": {},
     "output_type": "execute_result"
    }
   ],
   "source": [
    "df_logins = pd.read_csv('raw_data/Logins.csv')\n",
    "df_logins"
   ]
  },
  {
   "cell_type": "code",
   "execution_count": 68,
   "metadata": {},
   "outputs": [
    {
     "data": {
      "text/plain": [
       "'Mozilla/4.0 (compatible; MSIE 7.0; Windows NT 6.1; WOW64; SLCC2; .NET CLR 2.0.50727; .NET CLR 3.5.30729; .NET CLR 3.0.30729; Media Center PC 6.0; .NET4.0C; AskTbORJ/5.14.1.20007; MATM)'"
      ]
     },
     "execution_count": 68,
     "metadata": {},
     "output_type": "execute_result"
    }
   ],
   "source": [
    "user_agent = df_logins.loc[0,'user_agent']\n",
    "user_agent"
   ]
  },
  {
   "cell_type": "code",
   "execution_count": 13,
   "metadata": {},
   "outputs": [
    {
     "data": {
      "text/plain": [
       "'compatible'"
      ]
     },
     "execution_count": 13,
     "metadata": {},
     "output_type": "execute_result"
    }
   ],
   "source": [
    "def get_device(user_agent):\n",
    "    try:\n",
    "        device = user_agent.split('(')[1].split(';')[0]\n",
    "        if ' ' in device:\n",
    "            device = device.split(' ')[0]\n",
    "    except:\n",
    "        print(user_agent)\n",
    "        return None\n",
    "    return device\n",
    "\n",
    "get_device(user_agent)"
   ]
  },
  {
   "cell_type": "code",
   "execution_count": 69,
   "metadata": {},
   "outputs": [
    {
     "name": "stdout",
     "output_type": "stream",
     "text": [
      "BlackBerry8520/5.0.0.822 Profile/MIDP-2.1 Configuration/CLDC-1.1 VendorID/132\n",
      "MT6795_TD/V1 Linux/3.10.65+ Android/5.0 ALLVIEW_X2_Soul_Lite Release/1.8.2015 Browser/AppleWebKit537.36 Chrome/39.0.0.0 Mobile Safari/537.36 System/Android 5.0;\n",
      "Lyra-Network Agent\n",
      "Lyra-Network Agent\n",
      "Lyra-Network Agent\n",
      "Lyra-Network Agent\n",
      "Lyra-Network Agent\n",
      "Lyra-Network Agent\n",
      "Lyra-Network Agent\n",
      "Lyra-Network Agent\n",
      "Lyra-Network Agent\n",
      "Lyra-Network Agent\n",
      "Lyra-Network Agent\n"
     ]
    },
    {
     "data": {
      "text/plain": [
       "0         compatible\n",
       "1            Windows\n",
       "2            Windows\n",
       "3            Windows\n",
       "4            Windows\n",
       "             ...    \n",
       "240893     Macintosh\n",
       "240894        iPhone\n",
       "240895     Macintosh\n",
       "240896       Windows\n",
       "240897       Windows\n",
       "Name: device, Length: 240898, dtype: object"
      ]
     },
     "execution_count": 69,
     "metadata": {},
     "output_type": "execute_result"
    }
   ],
   "source": [
    "\n",
    "\n",
    "for i,row in enumerate(df_logins['user_agent']):\n",
    "    df_logins.loc[i,'device'] =get_device(row)\n",
    "df_logins['device']\n"
   ]
  },
  {
   "cell_type": "code",
   "execution_count": 70,
   "metadata": {},
   "outputs": [
    {
     "data": {
      "text/plain": [
       "array(['compatible', 'Windows', 'iPad', 'iPhone', 'Macintosh', 'Linux',\n",
       "       'X11', None, 'Mobile', 'Android', 'Unknown', 'BB10', 'Symbian/3',\n",
       "       'SMART-TV', 'BlackBerry', 'iPod', 'PlayStation', 'SAMSUNG',\n",
       "       'PLAYSTATION', 'MSIE', 'PlayBook', '', 'Fedora', 'HABFED',\n",
       "       'Linux/3.4.5', 'LTLM888'], dtype=object)"
      ]
     },
     "execution_count": 70,
     "metadata": {},
     "output_type": "execute_result"
    }
   ],
   "source": [
    "df_logins['device'].unique()"
   ]
  },
  {
   "cell_type": "code",
   "execution_count": 71,
   "metadata": {},
   "outputs": [
    {
     "data": {
      "text/plain": [
       "25"
      ]
     },
     "execution_count": 71,
     "metadata": {},
     "output_type": "execute_result"
    }
   ],
   "source": [
    "df_logins['device'].nunique()"
   ]
  },
  {
   "cell_type": "code",
   "execution_count": null,
   "metadata": {},
   "outputs": [],
   "source": []
  },
  {
   "cell_type": "code",
   "execution_count": 79,
   "metadata": {},
   "outputs": [],
   "source": [
    "def get_mac(user_agent):\n",
    "    mac_list = ['Macintosh', 'iPhone','iPad', 'iPod']\n",
    "    try:\n",
    "        device = user_agent.split('(')[1].split(';')[0]\n",
    "        if ' ' in device:\n",
    "            device = device.split(' ')[0]\n",
    "    except:\n",
    "        return int(0)\n",
    "    if device in mac_list:\n",
    "        return int(1)\n",
    "    else:\n",
    "        return int(0)\n",
    "\n",
    "# get_mac(user_agent)"
   ]
  },
  {
   "cell_type": "code",
   "execution_count": 80,
   "metadata": {},
   "outputs": [
    {
     "data": {
      "text/plain": [
       "0         0.0\n",
       "1         0.0\n",
       "2         0.0\n",
       "3         0.0\n",
       "4         0.0\n",
       "         ... \n",
       "240893    1.0\n",
       "240894    1.0\n",
       "240895    1.0\n",
       "240896    0.0\n",
       "240897    0.0\n",
       "Name: is_Mac, Length: 240898, dtype: float64"
      ]
     },
     "execution_count": 80,
     "metadata": {},
     "output_type": "execute_result"
    }
   ],
   "source": [
    "for i,row in enumerate(df_logins['user_agent']):\n",
    "    df_logins.loc[i,'is_Mac'] =get_mac(row)\n",
    "df_logins['is_Mac']"
   ]
  },
  {
   "cell_type": "code",
   "execution_count": 78,
   "metadata": {},
   "outputs": [
    {
     "data": {
      "text/html": [
       "<div>\n",
       "<style scoped>\n",
       "    .dataframe tbody tr th:only-of-type {\n",
       "        vertical-align: middle;\n",
       "    }\n",
       "\n",
       "    .dataframe tbody tr th {\n",
       "        vertical-align: top;\n",
       "    }\n",
       "\n",
       "    .dataframe thead th {\n",
       "        text-align: right;\n",
       "    }\n",
       "</style>\n",
       "<table border=\"1\" class=\"dataframe\">\n",
       "  <thead>\n",
       "    <tr style=\"text-align: right;\">\n",
       "      <th></th>\n",
       "      <th>id_log</th>\n",
       "      <th>id_user</th>\n",
       "      <th>log_date</th>\n",
       "      <th>user_agent</th>\n",
       "      <th>referer_source</th>\n",
       "      <th>device</th>\n",
       "      <th>is_Mac</th>\n",
       "    </tr>\n",
       "  </thead>\n",
       "  <tbody>\n",
       "    <tr>\n",
       "      <th>52096</th>\n",
       "      <td>289771</td>\n",
       "      <td>65736</td>\n",
       "      <td>11/20/2021 18:06</td>\n",
       "      <td>Mozilla/5.0 (Windows NT 10.0; Win64; x64) Appl...</td>\n",
       "      <td>www.bing.com</td>\n",
       "      <td>Windows</td>\n",
       "      <td>0.0</td>\n",
       "    </tr>\n",
       "  </tbody>\n",
       "</table>\n",
       "</div>"
      ],
      "text/plain": [
       "       id_log  id_user          log_date  \\\n",
       "52096  289771    65736  11/20/2021 18:06   \n",
       "\n",
       "                                              user_agent referer_source  \\\n",
       "52096  Mozilla/5.0 (Windows NT 10.0; Win64; x64) Appl...   www.bing.com   \n",
       "\n",
       "        device  is_Mac  \n",
       "52096  Windows     0.0  "
      ]
     },
     "execution_count": 78,
     "metadata": {},
     "output_type": "execute_result"
    }
   ],
   "source": [
    "df_logins.sample()"
   ]
  },
  {
   "cell_type": "code",
   "execution_count": 56,
   "metadata": {},
   "outputs": [
    {
     "data": {
      "text/plain": [
       "(240898, 7)"
      ]
     },
     "execution_count": 56,
     "metadata": {},
     "output_type": "execute_result"
    }
   ],
   "source": [
    "df_logins.shape"
   ]
  },
  {
   "cell_type": "code",
   "execution_count": 57,
   "metadata": {},
   "outputs": [
    {
     "name": "stdout",
     "output_type": "stream",
     "text": [
      "<class 'pandas.core.frame.DataFrame'>\n",
      "RangeIndex: 240898 entries, 0 to 240897\n",
      "Data columns (total 7 columns):\n",
      " #   Column          Non-Null Count   Dtype \n",
      "---  ------          --------------   ----- \n",
      " 0   id_log          240898 non-null  int64 \n",
      " 1   id_user         240898 non-null  int64 \n",
      " 2   log_date        240898 non-null  object\n",
      " 3   user_agent      240898 non-null  object\n",
      " 4   referer_source  187257 non-null  object\n",
      " 5   device          240885 non-null  object\n",
      " 6   is_Mac          240898 non-null  object\n",
      "dtypes: int64(2), object(5)\n",
      "memory usage: 12.9+ MB\n"
     ]
    }
   ],
   "source": [
    "df_logins.info()"
   ]
  },
  {
   "cell_type": "code",
   "execution_count": 60,
   "metadata": {},
   "outputs": [
    {
     "data": {
      "text/plain": [
       "150654"
      ]
     },
     "execution_count": 60,
     "metadata": {},
     "output_type": "execute_result"
    }
   ],
   "source": [
    "df_logins['id_user'].nunique()"
   ]
  },
  {
   "cell_type": "code",
   "execution_count": 81,
   "metadata": {},
   "outputs": [
    {
     "ename": "KeyError",
     "evalue": "'Apple'",
     "output_type": "error",
     "traceback": [
      "\u001b[0;31m---------------------------------------------------------------------------\u001b[0m",
      "\u001b[0;31mKeyError\u001b[0m                                  Traceback (most recent call last)",
      "File \u001b[0;32m~/.pyenv/versions/3.10.6/envs/salefriend/lib/python3.10/site-packages/pandas/core/indexes/base.py:3802\u001b[0m, in \u001b[0;36mIndex.get_loc\u001b[0;34m(self, key, method, tolerance)\u001b[0m\n\u001b[1;32m   3801\u001b[0m \u001b[39mtry\u001b[39;00m:\n\u001b[0;32m-> 3802\u001b[0m     \u001b[39mreturn\u001b[39;00m \u001b[39mself\u001b[39;49m\u001b[39m.\u001b[39;49m_engine\u001b[39m.\u001b[39;49mget_loc(casted_key)\n\u001b[1;32m   3803\u001b[0m \u001b[39mexcept\u001b[39;00m \u001b[39mKeyError\u001b[39;00m \u001b[39mas\u001b[39;00m err:\n",
      "File \u001b[0;32m~/.pyenv/versions/3.10.6/envs/salefriend/lib/python3.10/site-packages/pandas/_libs/index.pyx:138\u001b[0m, in \u001b[0;36mpandas._libs.index.IndexEngine.get_loc\u001b[0;34m()\u001b[0m\n",
      "File \u001b[0;32m~/.pyenv/versions/3.10.6/envs/salefriend/lib/python3.10/site-packages/pandas/_libs/index.pyx:146\u001b[0m, in \u001b[0;36mpandas._libs.index.IndexEngine.get_loc\u001b[0;34m()\u001b[0m\n",
      "File \u001b[0;32mpandas/_libs/index_class_helper.pxi:20\u001b[0m, in \u001b[0;36mpandas._libs.index.Float64Engine._check_type\u001b[0;34m()\u001b[0m\n",
      "\u001b[0;31mKeyError\u001b[0m: 'Apple'",
      "\nThe above exception was the direct cause of the following exception:\n",
      "\u001b[0;31mKeyError\u001b[0m                                  Traceback (most recent call last)",
      "Cell \u001b[0;32mIn[81], line 1\u001b[0m\n\u001b[0;32m----> 1\u001b[0m df_logins\u001b[39m.\u001b[39;49mgroupby(by\u001b[39m=\u001b[39;49m\u001b[39m'\u001b[39;49m\u001b[39mis_Mac\u001b[39;49m\u001b[39m'\u001b[39;49m)\u001b[39m.\u001b[39;49mcount()\u001b[39m.\u001b[39;49mloc[\u001b[39m'\u001b[39;49m\u001b[39mApple\u001b[39;49m\u001b[39m'\u001b[39;49m,\u001b[39m'\u001b[39;49m\u001b[39mdevice\u001b[39;49m\u001b[39m'\u001b[39;49m]\u001b[39m/\u001b[39mdf_logins\u001b[39m.\u001b[39mshape[\u001b[39m0\u001b[39m]\n",
      "File \u001b[0;32m~/.pyenv/versions/3.10.6/envs/salefriend/lib/python3.10/site-packages/pandas/core/indexing.py:1066\u001b[0m, in \u001b[0;36m_LocationIndexer.__getitem__\u001b[0;34m(self, key)\u001b[0m\n\u001b[1;32m   1064\u001b[0m     key \u001b[39m=\u001b[39m \u001b[39mtuple\u001b[39m(com\u001b[39m.\u001b[39mapply_if_callable(x, \u001b[39mself\u001b[39m\u001b[39m.\u001b[39mobj) \u001b[39mfor\u001b[39;00m x \u001b[39min\u001b[39;00m key)\n\u001b[1;32m   1065\u001b[0m     \u001b[39mif\u001b[39;00m \u001b[39mself\u001b[39m\u001b[39m.\u001b[39m_is_scalar_access(key):\n\u001b[0;32m-> 1066\u001b[0m         \u001b[39mreturn\u001b[39;00m \u001b[39mself\u001b[39;49m\u001b[39m.\u001b[39;49mobj\u001b[39m.\u001b[39;49m_get_value(\u001b[39m*\u001b[39;49mkey, takeable\u001b[39m=\u001b[39;49m\u001b[39mself\u001b[39;49m\u001b[39m.\u001b[39;49m_takeable)\n\u001b[1;32m   1067\u001b[0m     \u001b[39mreturn\u001b[39;00m \u001b[39mself\u001b[39m\u001b[39m.\u001b[39m_getitem_tuple(key)\n\u001b[1;32m   1068\u001b[0m \u001b[39melse\u001b[39;00m:\n\u001b[1;32m   1069\u001b[0m     \u001b[39m# we by definition only have the 0th axis\u001b[39;00m\n",
      "File \u001b[0;32m~/.pyenv/versions/3.10.6/envs/salefriend/lib/python3.10/site-packages/pandas/core/frame.py:3924\u001b[0m, in \u001b[0;36mDataFrame._get_value\u001b[0;34m(self, index, col, takeable)\u001b[0m\n\u001b[1;32m   3918\u001b[0m engine \u001b[39m=\u001b[39m \u001b[39mself\u001b[39m\u001b[39m.\u001b[39mindex\u001b[39m.\u001b[39m_engine\n\u001b[1;32m   3920\u001b[0m \u001b[39mif\u001b[39;00m \u001b[39mnot\u001b[39;00m \u001b[39misinstance\u001b[39m(\u001b[39mself\u001b[39m\u001b[39m.\u001b[39mindex, MultiIndex):\n\u001b[1;32m   3921\u001b[0m     \u001b[39m# CategoricalIndex: Trying to use the engine fastpath may give incorrect\u001b[39;00m\n\u001b[1;32m   3922\u001b[0m     \u001b[39m#  results if our categories are integers that dont match our codes\u001b[39;00m\n\u001b[1;32m   3923\u001b[0m     \u001b[39m# IntervalIndex: IntervalTree has no get_loc\u001b[39;00m\n\u001b[0;32m-> 3924\u001b[0m     row \u001b[39m=\u001b[39m \u001b[39mself\u001b[39;49m\u001b[39m.\u001b[39;49mindex\u001b[39m.\u001b[39;49mget_loc(index)\n\u001b[1;32m   3925\u001b[0m     \u001b[39mreturn\u001b[39;00m series\u001b[39m.\u001b[39m_values[row]\n\u001b[1;32m   3927\u001b[0m \u001b[39m# For MultiIndex going through engine effectively restricts us to\u001b[39;00m\n\u001b[1;32m   3928\u001b[0m \u001b[39m#  same-length tuples; see test_get_set_value_no_partial_indexing\u001b[39;00m\n",
      "File \u001b[0;32m~/.pyenv/versions/3.10.6/envs/salefriend/lib/python3.10/site-packages/pandas/core/indexes/base.py:3804\u001b[0m, in \u001b[0;36mIndex.get_loc\u001b[0;34m(self, key, method, tolerance)\u001b[0m\n\u001b[1;32m   3802\u001b[0m     \u001b[39mreturn\u001b[39;00m \u001b[39mself\u001b[39m\u001b[39m.\u001b[39m_engine\u001b[39m.\u001b[39mget_loc(casted_key)\n\u001b[1;32m   3803\u001b[0m \u001b[39mexcept\u001b[39;00m \u001b[39mKeyError\u001b[39;00m \u001b[39mas\u001b[39;00m err:\n\u001b[0;32m-> 3804\u001b[0m     \u001b[39mraise\u001b[39;00m \u001b[39mKeyError\u001b[39;00m(key) \u001b[39mfrom\u001b[39;00m \u001b[39merr\u001b[39;00m\n\u001b[1;32m   3805\u001b[0m \u001b[39mexcept\u001b[39;00m \u001b[39mTypeError\u001b[39;00m:\n\u001b[1;32m   3806\u001b[0m     \u001b[39m# If we have a listlike key, _check_indexing_error will raise\u001b[39;00m\n\u001b[1;32m   3807\u001b[0m     \u001b[39m#  InvalidIndexError. Otherwise we fall through and re-raise\u001b[39;00m\n\u001b[1;32m   3808\u001b[0m     \u001b[39m#  the TypeError.\u001b[39;00m\n\u001b[1;32m   3809\u001b[0m     \u001b[39mself\u001b[39m\u001b[39m.\u001b[39m_check_indexing_error(key)\n",
      "\u001b[0;31mKeyError\u001b[0m: 'Apple'"
     ]
    }
   ],
   "source": [
    "df_logins.groupby(by='is_Mac').count().loc['Apple','device']/df_logins.shape[0]"
   ]
  },
  {
   "cell_type": "code",
   "execution_count": null,
   "metadata": {},
   "outputs": [
    {
     "data": {
      "text/html": [
       "<div>\n",
       "<style scoped>\n",
       "    .dataframe tbody tr th:only-of-type {\n",
       "        vertical-align: middle;\n",
       "    }\n",
       "\n",
       "    .dataframe tbody tr th {\n",
       "        vertical-align: top;\n",
       "    }\n",
       "\n",
       "    .dataframe thead th {\n",
       "        text-align: right;\n",
       "    }\n",
       "</style>\n",
       "<table border=\"1\" class=\"dataframe\">\n",
       "  <thead>\n",
       "    <tr style=\"text-align: right;\">\n",
       "      <th></th>\n",
       "      <th>is_Mac</th>\n",
       "    </tr>\n",
       "    <tr>\n",
       "      <th>id_user</th>\n",
       "      <th></th>\n",
       "    </tr>\n",
       "  </thead>\n",
       "  <tbody>\n",
       "    <tr>\n",
       "      <th>1</th>\n",
       "      <td>0</td>\n",
       "    </tr>\n",
       "    <tr>\n",
       "      <th>6</th>\n",
       "      <td>0</td>\n",
       "    </tr>\n",
       "    <tr>\n",
       "      <th>10</th>\n",
       "      <td>0</td>\n",
       "    </tr>\n",
       "    <tr>\n",
       "      <th>14</th>\n",
       "      <td>0</td>\n",
       "    </tr>\n",
       "    <tr>\n",
       "      <th>17</th>\n",
       "      <td>0</td>\n",
       "    </tr>\n",
       "    <tr>\n",
       "      <th>...</th>\n",
       "      <td>...</td>\n",
       "    </tr>\n",
       "    <tr>\n",
       "      <th>298570</th>\n",
       "      <td>1</td>\n",
       "    </tr>\n",
       "    <tr>\n",
       "      <th>298571</th>\n",
       "      <td>1</td>\n",
       "    </tr>\n",
       "    <tr>\n",
       "      <th>298572</th>\n",
       "      <td>1</td>\n",
       "    </tr>\n",
       "    <tr>\n",
       "      <th>298573</th>\n",
       "      <td>0</td>\n",
       "    </tr>\n",
       "    <tr>\n",
       "      <th>298574</th>\n",
       "      <td>0</td>\n",
       "    </tr>\n",
       "  </tbody>\n",
       "</table>\n",
       "<p>150654 rows × 1 columns</p>\n",
       "</div>"
      ],
      "text/plain": [
       "         is_Mac\n",
       "id_user        \n",
       "1             0\n",
       "6             0\n",
       "10            0\n",
       "14            0\n",
       "17            0\n",
       "...         ...\n",
       "298570        1\n",
       "298571        1\n",
       "298572        1\n",
       "298573        0\n",
       "298574        0\n",
       "\n",
       "[150654 rows x 1 columns]"
      ]
     },
     "execution_count": 54,
     "metadata": {},
     "output_type": "execute_result"
    }
   ],
   "source": [
    "mac_log_df1 = df_logins.groupby('id_user')['is_Mac'].agg(lambda x: x.value_counts().index[0]).to_frame()\n",
    "mac_log_df1\n"
   ]
  },
  {
   "cell_type": "code",
   "execution_count": 83,
   "metadata": {},
   "outputs": [
    {
     "ename": "NameError",
     "evalue": "name 'mac_log_df1' is not defined",
     "output_type": "error",
     "traceback": [
      "\u001b[0;31m---------------------------------------------------------------------------\u001b[0m",
      "\u001b[0;31mNameError\u001b[0m                                 Traceback (most recent call last)",
      "Cell \u001b[0;32mIn[83], line 1\u001b[0m\n\u001b[0;32m----> 1\u001b[0m mac_log_df1\u001b[39m.\u001b[39mshape\n",
      "\u001b[0;31mNameError\u001b[0m: name 'mac_log_df1' is not defined"
     ]
    }
   ],
   "source": [
    "mac_log_df1.shape"
   ]
  },
  {
   "cell_type": "code",
   "execution_count": 51,
   "metadata": {},
   "outputs": [
    {
     "data": {
      "text/html": [
       "<div>\n",
       "<style scoped>\n",
       "    .dataframe tbody tr th:only-of-type {\n",
       "        vertical-align: middle;\n",
       "    }\n",
       "\n",
       "    .dataframe tbody tr th {\n",
       "        vertical-align: top;\n",
       "    }\n",
       "\n",
       "    .dataframe thead th {\n",
       "        text-align: right;\n",
       "    }\n",
       "</style>\n",
       "<table border=\"1\" class=\"dataframe\">\n",
       "  <thead>\n",
       "    <tr style=\"text-align: right;\">\n",
       "      <th></th>\n",
       "      <th>is_Mac</th>\n",
       "    </tr>\n",
       "    <tr>\n",
       "      <th>id_user</th>\n",
       "      <th></th>\n",
       "    </tr>\n",
       "  </thead>\n",
       "  <tbody>\n",
       "    <tr>\n",
       "      <th>1</th>\n",
       "      <td>0</td>\n",
       "    </tr>\n",
       "    <tr>\n",
       "      <th>6</th>\n",
       "      <td>0</td>\n",
       "    </tr>\n",
       "    <tr>\n",
       "      <th>10</th>\n",
       "      <td>0</td>\n",
       "    </tr>\n",
       "    <tr>\n",
       "      <th>14</th>\n",
       "      <td>0</td>\n",
       "    </tr>\n",
       "    <tr>\n",
       "      <th>17</th>\n",
       "      <td>0</td>\n",
       "    </tr>\n",
       "    <tr>\n",
       "      <th>...</th>\n",
       "      <td>...</td>\n",
       "    </tr>\n",
       "    <tr>\n",
       "      <th>298570</th>\n",
       "      <td>1</td>\n",
       "    </tr>\n",
       "    <tr>\n",
       "      <th>298571</th>\n",
       "      <td>1</td>\n",
       "    </tr>\n",
       "    <tr>\n",
       "      <th>298572</th>\n",
       "      <td>1</td>\n",
       "    </tr>\n",
       "    <tr>\n",
       "      <th>298573</th>\n",
       "      <td>0</td>\n",
       "    </tr>\n",
       "    <tr>\n",
       "      <th>298574</th>\n",
       "      <td>0</td>\n",
       "    </tr>\n",
       "  </tbody>\n",
       "</table>\n",
       "<p>150654 rows × 1 columns</p>\n",
       "</div>"
      ],
      "text/plain": [
       "        is_Mac\n",
       "id_user       \n",
       "1            0\n",
       "6            0\n",
       "10           0\n",
       "14           0\n",
       "17           0\n",
       "...        ...\n",
       "298570       1\n",
       "298571       1\n",
       "298572       1\n",
       "298573       0\n",
       "298574       0\n",
       "\n",
       "[150654 rows x 1 columns]"
      ]
     },
     "execution_count": 51,
     "metadata": {},
     "output_type": "execute_result"
    }
   ],
   "source": [
    "mac_log_df2 = df_logins.groupby('id_user')['is_Mac'].agg(pd.Series.mode).to_frame()\n",
    "mac_log_df2"
   ]
  },
  {
   "cell_type": "code",
   "execution_count": 52,
   "metadata": {},
   "outputs": [
    {
     "data": {
      "text/plain": [
       "(150654, 1)"
      ]
     },
     "execution_count": 52,
     "metadata": {},
     "output_type": "execute_result"
    }
   ],
   "source": [
    "mac_log_df2.shape"
   ]
  },
  {
   "cell_type": "code",
   "execution_count": 82,
   "metadata": {},
   "outputs": [
    {
     "data": {
      "text/html": [
       "<div>\n",
       "<style scoped>\n",
       "    .dataframe tbody tr th:only-of-type {\n",
       "        vertical-align: middle;\n",
       "    }\n",
       "\n",
       "    .dataframe tbody tr th {\n",
       "        vertical-align: top;\n",
       "    }\n",
       "\n",
       "    .dataframe thead th {\n",
       "        text-align: right;\n",
       "    }\n",
       "</style>\n",
       "<table border=\"1\" class=\"dataframe\">\n",
       "  <thead>\n",
       "    <tr style=\"text-align: right;\">\n",
       "      <th></th>\n",
       "      <th>is_Mac</th>\n",
       "      <th>Nb_of_logs</th>\n",
       "    </tr>\n",
       "    <tr>\n",
       "      <th>id_user</th>\n",
       "      <th></th>\n",
       "      <th></th>\n",
       "    </tr>\n",
       "  </thead>\n",
       "  <tbody>\n",
       "    <tr>\n",
       "      <th>1</th>\n",
       "      <td>0.0</td>\n",
       "      <td>21</td>\n",
       "    </tr>\n",
       "    <tr>\n",
       "      <th>6</th>\n",
       "      <td>0.0</td>\n",
       "      <td>141</td>\n",
       "    </tr>\n",
       "    <tr>\n",
       "      <th>10</th>\n",
       "      <td>0.0</td>\n",
       "      <td>2</td>\n",
       "    </tr>\n",
       "    <tr>\n",
       "      <th>14</th>\n",
       "      <td>0.0</td>\n",
       "      <td>1</td>\n",
       "    </tr>\n",
       "    <tr>\n",
       "      <th>17</th>\n",
       "      <td>0.0</td>\n",
       "      <td>15</td>\n",
       "    </tr>\n",
       "    <tr>\n",
       "      <th>...</th>\n",
       "      <td>...</td>\n",
       "      <td>...</td>\n",
       "    </tr>\n",
       "    <tr>\n",
       "      <th>298570</th>\n",
       "      <td>1.0</td>\n",
       "      <td>1</td>\n",
       "    </tr>\n",
       "    <tr>\n",
       "      <th>298571</th>\n",
       "      <td>1.0</td>\n",
       "      <td>1</td>\n",
       "    </tr>\n",
       "    <tr>\n",
       "      <th>298572</th>\n",
       "      <td>1.0</td>\n",
       "      <td>1</td>\n",
       "    </tr>\n",
       "    <tr>\n",
       "      <th>298573</th>\n",
       "      <td>0.0</td>\n",
       "      <td>1</td>\n",
       "    </tr>\n",
       "    <tr>\n",
       "      <th>298574</th>\n",
       "      <td>0.0</td>\n",
       "      <td>1</td>\n",
       "    </tr>\n",
       "  </tbody>\n",
       "</table>\n",
       "<p>150654 rows × 2 columns</p>\n",
       "</div>"
      ],
      "text/plain": [
       "        is_Mac  Nb_of_logs\n",
       "id_user                   \n",
       "1          0.0          21\n",
       "6          0.0         141\n",
       "10         0.0           2\n",
       "14         0.0           1\n",
       "17         0.0          15\n",
       "...        ...         ...\n",
       "298570     1.0           1\n",
       "298571     1.0           1\n",
       "298572     1.0           1\n",
       "298573     0.0           1\n",
       "298574     0.0           1\n",
       "\n",
       "[150654 rows x 2 columns]"
      ]
     },
     "execution_count": 82,
     "metadata": {},
     "output_type": "execute_result"
    }
   ],
   "source": [
    "mac_log_df = df_logins.groupby('id_user').agg({'is_Mac':pd.Series.mode,'log_date':pd.Series.count}).rename(columns={\"log_date\": \"Nb_of_logs\"})\n",
    "mac_log_df"
   ]
  },
  {
   "attachments": {},
   "cell_type": "markdown",
   "metadata": {},
   "source": [
    "# Boat model name exercise"
   ]
  },
  {
   "cell_type": "code",
   "execution_count": null,
   "metadata": {},
   "outputs": [],
   "source": [
    "boat_types = ['Sailboat','Catamaran','Motor boat', 'Luxury yacht','Gulet','RIB','Power catamaran', 'Houseboat']\n"
   ]
  },
  {
   "cell_type": "code",
   "execution_count": 85,
   "metadata": {},
   "outputs": [
    {
     "data": {
      "text/html": [
       "<div>\n",
       "<style scoped>\n",
       "    .dataframe tbody tr th:only-of-type {\n",
       "        vertical-align: middle;\n",
       "    }\n",
       "\n",
       "    .dataframe tbody tr th {\n",
       "        vertical-align: top;\n",
       "    }\n",
       "\n",
       "    .dataframe thead th {\n",
       "        text-align: right;\n",
       "    }\n",
       "</style>\n",
       "<table border=\"1\" class=\"dataframe\">\n",
       "  <thead>\n",
       "    <tr style=\"text-align: right;\">\n",
       "      <th></th>\n",
       "      <th>id_request</th>\n",
       "      <th>id_user</th>\n",
       "      <th>is_new_user</th>\n",
       "      <th>request_date</th>\n",
       "      <th>id_charter_company</th>\n",
       "      <th>id_charter_boat</th>\n",
       "      <th>charter_type</th>\n",
       "      <th>id_country</th>\n",
       "      <th>country_name</th>\n",
       "      <th>id_destination</th>\n",
       "      <th>destination_name</th>\n",
       "      <th>destination_flexible</th>\n",
       "      <th>id_boat_model</th>\n",
       "      <th>boat_model_name</th>\n",
       "      <th>adults</th>\n",
       "      <th>kids</th>\n",
       "      <th>start_date</th>\n",
       "      <th>end_date</th>\n",
       "      <th>flexible_date</th>\n",
       "    </tr>\n",
       "  </thead>\n",
       "  <tbody>\n",
       "    <tr>\n",
       "      <th>0</th>\n",
       "      <td>2</td>\n",
       "      <td>47097</td>\n",
       "      <td>1</td>\n",
       "      <td>1/29/2015 12:56</td>\n",
       "      <td>16</td>\n",
       "      <td>100</td>\n",
       "      <td>1</td>\n",
       "      <td>73.0</td>\n",
       "      <td>Greece</td>\n",
       "      <td>462</td>\n",
       "      <td>Santorini</td>\n",
       "      <td>0</td>\n",
       "      <td>480</td>\n",
       "      <td>Oceanis 46</td>\n",
       "      <td>5</td>\n",
       "      <td>2</td>\n",
       "      <td>7/27/2015</td>\n",
       "      <td>8/1/2015</td>\n",
       "      <td>3</td>\n",
       "    </tr>\n",
       "    <tr>\n",
       "      <th>1</th>\n",
       "      <td>3</td>\n",
       "      <td>47098</td>\n",
       "      <td>1</td>\n",
       "      <td>1/29/2015 13:11</td>\n",
       "      <td>131</td>\n",
       "      <td>3190</td>\n",
       "      <td>1</td>\n",
       "      <td>67.0</td>\n",
       "      <td>France</td>\n",
       "      <td>379</td>\n",
       "      <td>Hy�res</td>\n",
       "      <td>1</td>\n",
       "      <td>1087</td>\n",
       "      <td>Elan 333</td>\n",
       "      <td>8</td>\n",
       "      <td>0</td>\n",
       "      <td>8/8/2015</td>\n",
       "      <td>8/15/2015</td>\n",
       "      <td>3</td>\n",
       "    </tr>\n",
       "    <tr>\n",
       "      <th>2</th>\n",
       "      <td>4</td>\n",
       "      <td>47099</td>\n",
       "      <td>1</td>\n",
       "      <td>1/29/2015 13:12</td>\n",
       "      <td>297</td>\n",
       "      <td>16537</td>\n",
       "      <td>0</td>\n",
       "      <td>73.0</td>\n",
       "      <td>Greece</td>\n",
       "      <td>447</td>\n",
       "      <td>Skiathos island</td>\n",
       "      <td>0</td>\n",
       "      <td>639</td>\n",
       "      <td>Sun Odyssey 42i</td>\n",
       "      <td>4</td>\n",
       "      <td>0</td>\n",
       "      <td>8/29/2015</td>\n",
       "      <td>9/12/2015</td>\n",
       "      <td>0</td>\n",
       "    </tr>\n",
       "    <tr>\n",
       "      <th>3</th>\n",
       "      <td>5</td>\n",
       "      <td>47100</td>\n",
       "      <td>1</td>\n",
       "      <td>1/29/2015 13:14</td>\n",
       "      <td>1371</td>\n",
       "      <td>13637</td>\n",
       "      <td>0</td>\n",
       "      <td>73.0</td>\n",
       "      <td>Greece</td>\n",
       "      <td>446</td>\n",
       "      <td>Lefkada</td>\n",
       "      <td>0</td>\n",
       "      <td>922</td>\n",
       "      <td>Bavaria 46 Cruiser</td>\n",
       "      <td>6</td>\n",
       "      <td>0</td>\n",
       "      <td>7/11/2015</td>\n",
       "      <td>7/18/2015</td>\n",
       "      <td>7</td>\n",
       "    </tr>\n",
       "    <tr>\n",
       "      <th>4</th>\n",
       "      <td>6</td>\n",
       "      <td>47100</td>\n",
       "      <td>0</td>\n",
       "      <td>1/29/2015 13:22</td>\n",
       "      <td>1059</td>\n",
       "      <td>16476</td>\n",
       "      <td>0</td>\n",
       "      <td>73.0</td>\n",
       "      <td>Greece</td>\n",
       "      <td>443</td>\n",
       "      <td>Lavrio</td>\n",
       "      <td>0</td>\n",
       "      <td>2720</td>\n",
       "      <td>Lagoon 400 S2</td>\n",
       "      <td>7</td>\n",
       "      <td>0</td>\n",
       "      <td>6/6/2015</td>\n",
       "      <td>6/13/2015</td>\n",
       "      <td>0</td>\n",
       "    </tr>\n",
       "  </tbody>\n",
       "</table>\n",
       "</div>"
      ],
      "text/plain": [
       "   id_request  id_user  is_new_user     request_date  id_charter_company  \\\n",
       "0           2    47097            1  1/29/2015 12:56                  16   \n",
       "1           3    47098            1  1/29/2015 13:11                 131   \n",
       "2           4    47099            1  1/29/2015 13:12                 297   \n",
       "3           5    47100            1  1/29/2015 13:14                1371   \n",
       "4           6    47100            0  1/29/2015 13:22                1059   \n",
       "\n",
       "   id_charter_boat  charter_type  id_country country_name  id_destination  \\\n",
       "0              100             1        73.0       Greece             462   \n",
       "1             3190             1        67.0       France             379   \n",
       "2            16537             0        73.0       Greece             447   \n",
       "3            13637             0        73.0       Greece             446   \n",
       "4            16476             0        73.0       Greece             443   \n",
       "\n",
       "  destination_name  destination_flexible  id_boat_model     boat_model_name  \\\n",
       "0        Santorini                     0            480          Oceanis 46   \n",
       "1           Hy�res                     1           1087            Elan 333   \n",
       "2  Skiathos island                     0            639     Sun Odyssey 42i   \n",
       "3          Lefkada                     0            922  Bavaria 46 Cruiser   \n",
       "4           Lavrio                     0           2720       Lagoon 400 S2   \n",
       "\n",
       "   adults  kids start_date   end_date  flexible_date  \n",
       "0       5     2  7/27/2015   8/1/2015              3  \n",
       "1       8     0   8/8/2015  8/15/2015              3  \n",
       "2       4     0  8/29/2015  9/12/2015              0  \n",
       "3       6     0  7/11/2015  7/18/2015              7  \n",
       "4       7     0   6/6/2015  6/13/2015              0  "
      ]
     },
     "execution_count": 85,
     "metadata": {},
     "output_type": "execute_result"
    }
   ],
   "source": [
    "df_requests.head()"
   ]
  },
  {
   "cell_type": "code",
   "execution_count": 93,
   "metadata": {},
   "outputs": [
    {
     "data": {
      "text/plain": [
       "3637"
      ]
     },
     "execution_count": 93,
     "metadata": {},
     "output_type": "execute_result"
    }
   ],
   "source": [
    "df_requests['boat_model_name'].nunique()"
   ]
  },
  {
   "cell_type": "code",
   "execution_count": 96,
   "metadata": {},
   "outputs": [
    {
     "data": {
      "text/plain": [
       "['Oceanis 46',\n",
       " 'Elan 333',\n",
       " 'Sun Odyssey 42i',\n",
       " 'Bavaria 46 Cruiser',\n",
       " 'Lagoon 400 S2',\n",
       " 'Oceanis 41',\n",
       " 'Oceanis 40',\n",
       " 'Atlantis 43',\n",
       " 'Admiral',\n",
       " 'Oceanis 351',\n",
       " 'Bavaria 47 Cruiser',\n",
       " 'First 40',\n",
       " 'Bavaria 51 Cruiser',\n",
       " 'Oceanis 43',\n",
       " 'Ovni 365',\n",
       " 'Bavaria 31 Cruiser',\n",
       " 'Delphia 47',\n",
       " 'Mah� 36',\n",
       " 'Oceanis 45',\n",
       " 'Beneteau 50',\n",
       " 'Sun Odyssey 40',\n",
       " 'Lagoon 500',\n",
       " 'First 36.7',\n",
       " 'Bavaria 37 Cruiser',\n",
       " 'Lagoon 440',\n",
       " 'Helia 44',\n",
       " 'Oceanis 50',\n",
       " 'Crownline 205',\n",
       " 'Sun Odyssey 36i',\n",
       " 'Dufour 455',\n",
       " 'Lagoon 52',\n",
       " 'Moody 45 DS',\n",
       " 'Bavaria 40 Cruiser',\n",
       " 'Lagoon 39',\n",
       " 'Bavaria 50 Cruiser',\n",
       " 'Merry Fisher 625',\n",
       " 'Luka',\n",
       " 'Lagoon 380',\n",
       " 'Sun Odyssey 36.2',\n",
       " 'Jeanneau 53',\n",
       " 'Lagoon 470',\n",
       " 'Lagoon 450',\n",
       " 'Sun Odyssey 32',\n",
       " 'Oceanis 37',\n",
       " 'First 40.7',\n",
       " 'Birchwood TS 54',\n",
       " 'Grand surprise',\n",
       " 'Dufour 40',\n",
       " 'Athena 38',\n",
       " 'Sun Odyssey 32i',\n",
       " 'Bavaria 44',\n",
       " 'Menorquin 36 pams',\n",
       " 'Oceanis 411',\n",
       " 'Leopard 39',\n",
       " 'Sun Odyssey 349',\n",
       " 'Delphia 31',\n",
       " 'Cumberland 44',\n",
       " nan,\n",
       " 'Oceanis 343',\n",
       " 'Nautitech 47',\n",
       " 'Bavaria 45 Cruiser',\n",
       " 'Bavaria 33 Cruiser',\n",
       " '525 Commander',\n",
       " 'Jaguar 76 Sport',\n",
       " 'Sun Odyssey 30i',\n",
       " 'Sun Magic 44',\n",
       " 'First 51',\n",
       " 'BWA Sport 22 GT',\n",
       " 'Bavaria 42',\n",
       " 'Dufour 450 Grand Large',\n",
       " 'Bavaria 50',\n",
       " 'Bavaria 30 Cruiser',\n",
       " 'Sun Odyssey 45',\n",
       " 'Prestige 400',\n",
       " 'Flyer 650 Sun Deck',\n",
       " 'Bavaria 35 Match',\n",
       " 'BMB 37',\n",
       " 'Lagoon 420',\n",
       " 'Nautitech 40',\n",
       " 'Oceanis 31',\n",
       " 'Malena',\n",
       " 'Mah� 36 Evolution',\n",
       " 'Sun Odyssey 37',\n",
       " 'Oceanis 311 Clipper',\n",
       " 'Salona 40',\n",
       " 'Zar 53',\n",
       " 'Oceanis 323',\n",
       " 'Lagoon 400',\n",
       " 'Sun Odyssey 42 DS',\n",
       " 'Lipari 41',\n",
       " 'Cap Camarat 715 WA',\n",
       " 'Bavaria 38',\n",
       " 'Bavaria 36 Cruiser',\n",
       " 'Tiho',\n",
       " 'Hanse 342',\n",
       " 'Oceanis 331',\n",
       " 'Sun Odyssey 509',\n",
       " 'Starfisher 840 fly',\n",
       " 'Cyclades 43.4',\n",
       " 'Rancraft 18.20']"
      ]
     },
     "execution_count": 96,
     "metadata": {},
     "output_type": "execute_result"
    }
   ],
   "source": [
    "pd.options.display.max_rows = 500\n",
    "list(df_requests['boat_model_name'].unique())[:100]"
   ]
  },
  {
   "cell_type": "code",
   "execution_count": 91,
   "metadata": {},
   "outputs": [
    {
     "name": "stdout",
     "output_type": "stream",
     "text": [
      "60\n"
     ]
    }
   ],
   "source": [
    "print(pd.options.display.max_rows)"
   ]
  },
  {
   "cell_type": "code",
   "execution_count": null,
   "metadata": {},
   "outputs": [],
   "source": [
    "pd.options.display.max_rows = None"
   ]
  }
 ],
 "metadata": {
  "kernelspec": {
   "display_name": "salefriend",
   "language": "python",
   "name": "python3"
  },
  "language_info": {
   "codemirror_mode": {
    "name": "ipython",
    "version": 3
   },
   "file_extension": ".py",
   "mimetype": "text/x-python",
   "name": "python",
   "nbconvert_exporter": "python",
   "pygments_lexer": "ipython3",
   "version": "3.10.6 (main, Jan 14 2023, 13:52:27) [Clang 14.0.0 (clang-1400.0.29.102)]"
  },
  "orig_nbformat": 4,
  "vscode": {
   "interpreter": {
    "hash": "1962c04251eda3144d7556d2921d1eaedfecf140742276de4579043b49472502"
   }
  }
 },
 "nbformat": 4,
 "nbformat_minor": 2
}
