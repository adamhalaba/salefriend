{
 "cells": [
  {
   "cell_type": "markdown",
   "id": "66442097",
   "metadata": {},
   "source": [
    "# Data"
   ]
  },
  {
   "cell_type": "markdown",
   "id": "4f1d493f",
   "metadata": {},
   "source": [
    "## Data import and check"
   ]
  },
  {
   "cell_type": "code",
   "execution_count": null,
   "id": "a50c0987",
   "metadata": {},
   "outputs": [],
   "source": [
    "import pandas as pd\n",
    "import numpy as np\n",
    "import random\n",
    "\n",
    "#FYI. If the csv is not working transform data to utf-8 encoding via Visual Studio, otherwise it doesn't open\n",
    "\n",
    "df_requests = pd.read_csv('raw_data/Requests.csv')\n",
    "df_bookings = pd.read_csv('raw_data/Bookings.csv')\n",
    "df_users = pd.read_csv('raw_data/Users.csv')\n",
    "df_logins = pd.read_csv('raw_data/Logins.csv')"
   ]
  },
  {
   "cell_type": "markdown",
   "id": "99f543cb",
   "metadata": {},
   "source": [
    "## Datasets and its descriptions\n"
   ]
  },
  {
   "cell_type": "code",
   "execution_count": null,
   "id": "0aca050a",
   "metadata": {},
   "outputs": [],
   "source": [
    "pd.set_option('display.max_columns', None)\n",
    "df_requests"
   ]
  },
  {
   "cell_type": "code",
   "execution_count": null,
   "id": "d9f779c4",
   "metadata": {},
   "outputs": [],
   "source": [
    "df_requests.columns"
   ]
  },
  {
   "cell_type": "code",
   "execution_count": null,
   "id": "19651693",
   "metadata": {},
   "outputs": [],
   "source": [
    "# 'id_request' - unique request id\n",
    "# 'id_user' - unique user id\n",
    "# 'is_new_user' - 1 - new user without account, 0 - already has account\n",
    "# 'request_date' - date and hour of request\n",
    "# 'id_charter_company' - id of the renter/charter company\n",
    "# 'id_charter_boat' - id of boat (each boat is unique)\n",
    "# 'charter_type' - 0 - without skipper, 1 - with skipper, 2 - cabin charter\n",
    "# 'id_country' - id of requested country\n",
    "# 'country_name' - requested country\n",
    "# 'id_destination' - id of requested city\n",
    "# 'destination_name' - requested city\n",
    "# 'destination_flexible' - is client open for changes of destination 1- yes, 0 - no\n",
    "# 'id_boat_model'- id of boat model\n",
    "# 'boat_model_name' boat model name\n",
    "# 'adults' - how many adults excpected on the board\n",
    "# 'adults' - how many adults excpected on the board\n",
    "# 'start_date'- requested start date of the rental\n",
    "# 'end_date'- requested end date of the rental\n",
    "# 'flexible_date' - 0 - no flexibility, 3 - up to 3 days, 7 - up to 7 days"
   ]
  },
  {
   "cell_type": "code",
   "execution_count": null,
   "id": "68b12575",
   "metadata": {},
   "outputs": [],
   "source": [
    "pd.set_option('display.max_columns', None)\n",
    "\n",
    "df_bookings.head(5)"
   ]
  },
  {
   "cell_type": "code",
   "execution_count": null,
   "id": "9bf7d6bf",
   "metadata": {},
   "outputs": [],
   "source": [
    "# 'id_booking' - unique id per booking\n",
    "# 'id_user' - unique user id\n",
    "# 'id_charter_company' - booked charter company\n",
    "# 'id_support' - the id of commercial\n",
    "# 'booking_date' - date and hour of booking\n",
    "# 'currency' - paid currency\n",
    "# 'insurance_cancel' - not important\n",
    "# 'insurance_damage' - not important\n",
    "# 'insurance_flex' - not important\n",
    "# 'insurance_gs_damage' - not important\n",
    "# 'service_concierge' -  not important\n",
    "# 'id_boat_model' - final booked model id\n",
    "# 'boat_model_name' - final booked model\n",
    "# 'id_charter_boat' - final unique boat id\n",
    "# 'id_country_start' - final booked country start id\n",
    "# 'country_start_name' - final booked country start name\n",
    "# 'id_destination_start' - final booked country start name\n",
    "# 'destination_start_name' - final booked city start\n",
    "# 'id_country_end' - final booked country end id\n",
    "# 'country_end_name' - final booked country end name\n",
    "# 'id_destination_end' - final booked country end name\n",
    "# 'destination_end_name' - final booked city end\n",
    "# 'start_date' - final booked start date\n",
    "# 'end_date' - final booked start date\n",
    "# 'final_price_eur' - final booked price"
   ]
  },
  {
   "cell_type": "code",
   "execution_count": null,
   "id": "9fa1f0e1",
   "metadata": {},
   "outputs": [],
   "source": [
    "df_bookings.columns"
   ]
  },
  {
   "cell_type": "code",
   "execution_count": null,
   "id": "a5aa33ae",
   "metadata": {},
   "outputs": [],
   "source": [
    "df_users"
   ]
  },
  {
   "cell_type": "code",
   "execution_count": null,
   "id": "a0381af4",
   "metadata": {},
   "outputs": [],
   "source": [
    "df_users.columns"
   ]
  },
  {
   "cell_type": "code",
   "execution_count": null,
   "id": "628dbd67",
   "metadata": {},
   "outputs": [],
   "source": [
    "# 'id_user' - unique user id\n",
    "# 'id_support' -  the id of commercial\n",
    "# 'email_is_valid' - did client confirmed his email or not, 1 - yes, 0 -  no\n",
    "# 'creation_date' - date and time of creation of account\n",
    "# 'last_login_date' - date and time of last login date\n",
    "# 'auto_reminder_date' - the date of mail reminder sent\n",
    "# 'civility' - sex\n",
    "# 'birthday' - age\n",
    "# 'timezone_offset' - hour adapted to timezone of client   (ex. -5 means that it is 5 hours earlier than in Paris time)\n",
    "# 'country' - country abbreviation of client\n",
    "# 'country_name' - country name of client\n",
    "# 'default_language'- language of client\n",
    "# 'default_currency'- currency of client\n",
    "# 'newsletter' - subscribed/not subscribed to newsletter (1-  yes, 0 -  no)\n",
    "# 'partners_newsletter' - subscribed/not subscribed to partners newsletter (1-  yes, 0 -  no)"
   ]
  },
  {
   "cell_type": "code",
   "execution_count": null,
   "id": "a240fc92",
   "metadata": {},
   "outputs": [],
   "source": [
    "df_logins"
   ]
  },
  {
   "cell_type": "code",
   "execution_count": null,
   "id": "ee8aaf6f",
   "metadata": {},
   "outputs": [],
   "source": [
    "df_logins.columns"
   ]
  },
  {
   "cell_type": "code",
   "execution_count": null,
   "id": "1cadbe73",
   "metadata": {},
   "outputs": [],
   "source": [
    "# 'id_log' - id of log \n",
    "# 'id_user' -  unique user id\n",
    "# 'log_date' - date and time per log\n",
    "# 'user_agent' - user agent information\n",
    "# 'referer_source' - info about browser "
   ]
  },
  {
   "cell_type": "markdown",
   "id": "7e17abf8",
   "metadata": {},
   "source": [
    "## Description of unique values"
   ]
  },
  {
   "cell_type": "code",
   "execution_count": null,
   "id": "eafec91b",
   "metadata": {},
   "outputs": [],
   "source": [
    "df_requests.nunique()"
   ]
  },
  {
   "cell_type": "code",
   "execution_count": null,
   "id": "6dc42f4f",
   "metadata": {},
   "outputs": [],
   "source": [
    "df_bookings.nunique()"
   ]
  },
  {
   "cell_type": "code",
   "execution_count": null,
   "id": "ee662a1d",
   "metadata": {},
   "outputs": [],
   "source": [
    "df_logins.nunique()"
   ]
  },
  {
   "cell_type": "code",
   "execution_count": null,
   "id": "1b8e4c9a",
   "metadata": {},
   "outputs": [],
   "source": [
    "df_users.nunique()"
   ]
  },
  {
   "cell_type": "code",
   "execution_count": null,
   "id": "3bdfede0",
   "metadata": {},
   "outputs": [],
   "source": [
    "df_requests.columns"
   ]
  },
  {
   "cell_type": "markdown",
   "id": "da8768a1",
   "metadata": {},
   "source": [
    "## Missing Values analysis"
   ]
  },
  {
   "cell_type": "code",
   "execution_count": null,
   "id": "93699747",
   "metadata": {},
   "outputs": [],
   "source": [
    "df_requests.isna().sum()"
   ]
  },
  {
   "cell_type": "code",
   "execution_count": null,
   "id": "4b04f3bf",
   "metadata": {},
   "outputs": [],
   "source": [
    "df_bookings.isna().sum()"
   ]
  },
  {
   "cell_type": "code",
   "execution_count": null,
   "id": "8fb7f171",
   "metadata": {},
   "outputs": [],
   "source": [
    "df_logins.isna().sum()"
   ]
  },
  {
   "cell_type": "code",
   "execution_count": null,
   "id": "626e7258",
   "metadata": {},
   "outputs": [],
   "source": [
    "df_users.isna().sum()"
   ]
  },
  {
   "cell_type": "markdown",
   "id": "096d815b",
   "metadata": {},
   "source": [
    "## Preselection of columns"
   ]
  },
  {
   "cell_type": "code",
   "execution_count": null,
   "id": "36755a06",
   "metadata": {},
   "outputs": [],
   "source": [
    "## Selection of columns depending on the significance of missing values"
   ]
  },
  {
   "cell_type": "code",
   "execution_count": null,
   "id": "f1d87804",
   "metadata": {},
   "outputs": [],
   "source": [
    "#Dataset REQUESTS\n",
    "#Dropped columns:\n",
    "# 'id_charter_boat' - no siginificance of keeping unique boats\n",
    "# 'id_destination' - no siginificance of keeping requested cities id\n",
    "# 'destination_name' - no siginificance of keeping requested cities\n",
    "# 'id_country' - not relevant\n",
    "# 'id_boat_model' - impossible to segment the boats by category\n",
    "# 'boat_model_name' - impossible to segment the boats by category"
   ]
  },
  {
   "cell_type": "code",
   "execution_count": null,
   "id": "2a747839",
   "metadata": {},
   "outputs": [],
   "source": [
    "df_requests = df_requests[['id_request', 'id_user', 'is_new_user', 'request_date',\n",
    "       'id_charter_company',  'charter_type',\n",
    "       'country_name', 'destination_flexible',  'adults',\n",
    "       'kids', 'start_date', 'end_date', 'flexible_date']]\n",
    "df_requests.tail()"
   ]
  },
  {
   "cell_type": "code",
   "execution_count": null,
   "id": "37aadf8e",
   "metadata": {},
   "outputs": [],
   "source": [
    "#Dataset BOOKINGS\n",
    "#Dropped columns:\n",
    "# 'id_support' - no significance of keeping the number of commercial assigned to client\n",
    "# 'currency' - no significance of keeping currency, clients are forced to pay in euro\n",
    "# 'insurance_cancel' - no significance of keeping in final dataset\n",
    "# 'insurance_damage'- no significance of keeping in final dataset\n",
    "# 'insurance_flex'- no significance of keeping in final dataset\n",
    "# 'insurance_gs_damage'- no significance of keeping in final dataset\n",
    "# 'service_concierge'- no significance of keeping in final dataset\n",
    "# 'id_boat_model'- no significance of keeping in final dataset\n",
    "# 'boat_model_name'- no significance of keeping in final dataset\n",
    "# 'id_charter_boat'- no significance of keeping in final dataset\n",
    "# 'id_country_start'- no significance of keeping in final dataset\n",
    "# 'country_start_name'- no significance of keeping in final dataset\n",
    "# 'id_destination_start'- no significance of keeping in final dataset\n",
    "# 'destination_start_name'- no significance of keeping in final dataset\n",
    "# 'id_country_end'- no significance of keeping in final dataset\n",
    "# 'country_end_name'- no significance of keeping in final dataset\n",
    "# 'id_destination_end'- no significance of keeping in final dataset\n",
    "# 'destination_end_name'- no significance of keeping in final dataset\n",
    "# 'final_price_eur'- no significance of keeping in final dataset"
   ]
  },
  {
   "cell_type": "code",
   "execution_count": null,
   "id": "d79c2c94",
   "metadata": {},
   "outputs": [],
   "source": [
    "df_bookings = df_bookings[['id_booking', 'id_user', 'country_end_name', 'start_date', 'end_date']]\n",
    "df_bookings.tail()"
   ]
  },
  {
   "cell_type": "code",
   "execution_count": null,
   "id": "9a77e4ac",
   "metadata": {},
   "outputs": [],
   "source": [
    "df_users"
   ]
  },
  {
   "cell_type": "code",
   "execution_count": null,
   "id": "d6ba3647",
   "metadata": {},
   "outputs": [],
   "source": [
    "#Dataset USERS\n",
    "#Dropped columns:\n",
    "# 'id_support' - no need to know who was the commercial support\n",
    "# 'email_is_valid' -  important but sometimes emails are validated few days after the creation of account\n",
    "# 'last_login_date'\n",
    "# 'auto_reminder_date' - seems not to be significant and not fixed in the time\n",
    "# 'birthday' - to many missing values\n",
    "# 'country' - better to keep countyr_name\n",
    "# 'default_language' -  not significant\n",
    "# 'default_currency' - not significant\n",
    "# 'newsletter' - seems not to be significant and not fixed in the time\n",
    "# 'partners_newsletter' - seems not to be significant and not fixed in the time\n",
    "# 'timezone_offset' - not relevant because too many missing values\n",
    "# 'last_login_date' - irrelevant\n"
   ]
  },
  {
   "cell_type": "code",
   "execution_count": null,
   "id": "9a0e4421",
   "metadata": {},
   "outputs": [],
   "source": [
    "df_users = df_users[['id_user','creation_date', 'civility', 'country_name']]\n",
    "df_users.tail()"
   ]
  },
  {
   "cell_type": "code",
   "execution_count": null,
   "id": "556224a4",
   "metadata": {},
   "outputs": [],
   "source": [
    "#Dataset USERS\n",
    "#Dropped columns:\n",
    "#-"
   ]
  },
  {
   "cell_type": "code",
   "execution_count": null,
   "id": "702111ba",
   "metadata": {},
   "outputs": [],
   "source": [
    "df_logins.tail()"
   ]
  },
  {
   "cell_type": "markdown",
   "id": "d9081023",
   "metadata": {},
   "source": [
    "## Feature creation"
   ]
  },
  {
   "cell_type": "code",
   "execution_count": null,
   "id": "d8c5e2fb",
   "metadata": {},
   "outputs": [],
   "source": [
    "#   1. Creation of request_date_new (DS -df_requests)\n",
    "# Creation of request_date_new from request_date.\n",
    "# Type- object\n",
    "\n",
    "#   2. Creation of request_day_day (DS -df_requests)\n",
    "# Creation of request_day_week (Monday, Tuasday...) from request_date.\n",
    "# Type of request_day_day - object\n",
    "\n",
    "# 3. Creation of month_request (DS -df_requests)\n",
    "# Creation of request_month (January, February, March...) from request_date.\n",
    "# Type of month_request - object\n",
    "\n",
    "# 4. Creation of day_time_request (DS -df_requests)\n",
    "# Creation of day_time_request from request_date.\n",
    "# 00:00 -6:00 - \"night\"\n",
    "# 06:00 -12:00 - \"morning\"\n",
    "# 12:00 -18:00 - \"afternoon\"\n",
    "# 18:00 -24:00 - \"evening\"\n",
    "# Type- object\n",
    "\n",
    "\n",
    "# 5. Creation of days_before_departure (DS -df_requests)\n",
    "# Creation of days_before_departure = start_date-request_date\n",
    "\n",
    "\n",
    "# 6. Creation of in_europe (DS -df_requests)\n",
    "# Creation of destination_exotic from destination_name if country in Europe or not (1 - europe, 0 - not europe)\n",
    "# Type of in_europe - int64\n",
    "\n",
    "# 7.  Creation of num_passengers (DS -df_requests)\n",
    "# Creation of num_passengers from sum of variable adults and kids \n",
    "# Type of type_of_boat - int64\n",
    "\n",
    "# 8. Creation of kid_on_board (DS -df_requests)\n",
    "# Creation of kid_on_board telling if kids will be on board or not \n",
    "# Type of type_of_boat - int64\n",
    "\n",
    "# 9. Creation of duration (DS -df_requests)\n",
    "# Creation of duration that tells us the differance between end_date and start_date.\n",
    "# Type of duration - int64\n",
    "\n",
    "#TO BE CREATED\n",
    "# 10. Creation of booked_already (DS -df_final)\n",
    "# Creation of book_already that checks if the person ve already booked or not\n",
    "# (1 - yes. 0 - no)\n",
    "\n",
    "\n",
    "# 11. Create of is_MAC \n",
    "# Created from df_logins\n",
    "# 1 for ['Macintosh', 'iPhone','iPad', 'iPod'], 0 for the rest\n",
    "\n",
    "#TO BE CREATED\n",
    "# 17. Creation of old_of_client (df_final)\n",
    "# Creation of old_of_client that will be the request_date - creation_date.   \n",
    "\n",
    "#TO BE CREATED\n",
    "# 18. Create month_depart\n",
    "#Create month_depart that tells in which month client sail\n",
    "\n",
    "\n",
    "\n",
    "\n",
    "\n",
    "#WHAT WAS DELETED:\n",
    "# TO BE DELETED  Creation of num_req (DS -df_requests)\n",
    "# Creation of num_req telling how many request were made by 1 user by request_date ()\n",
    "# Type of duration - int64\n",
    "\n",
    "# TO BE DELETED  Creating number_bookings per user_id (on bookings_df)\n",
    "# Count booking per user_id (on bookings_df)\n",
    "\n",
    "# 13. TO BE DELETED Creation of creation_month (DS -df_users)\n",
    "# Creation of creation_month (January, February, March...) from creation_date.\n",
    "# Type of request_month - object\n",
    "\n",
    "#  TO BE DELETED 14. Creation of creation_day_period (DS -df_users)\n",
    "# Creation of creation_day_period from users_date.\n",
    "# 00:00 -6:00 - \"night\"\n",
    "# 06:00 -12:00 - \"morning\"\n",
    "# 12:00 -18:00 - \"afternoon\"\n",
    "# 18:00 -24:00 - \"evening\"\n",
    "# Type- object\n",
    "\n",
    "# 15.TO BE DELETED Creation of num_logs (df_logins). \n",
    "# Count the number of logs per id_user. "
   ]
  },
  {
   "cell_type": "code",
   "execution_count": null,
   "id": "8e9d09a0",
   "metadata": {},
   "outputs": [],
   "source": [
    "#convert date columns from objects to datetime64\n",
    "df_bookings['start_date']=pd.to_datetime(df_bookings['start_date'], format=\"%m/%d/%Y\")\n",
    "df_bookings['end_date']=pd.to_datetime(df_bookings['end_date'], format=\"%m/%d/%Y\")"
   ]
  },
  {
   "cell_type": "code",
   "execution_count": null,
   "id": "47ca169b",
   "metadata": {},
   "outputs": [],
   "source": [
    "#convert date columns from objects to datetime64\n",
    "df_requests['start_date']=pd.to_datetime(df_requests['start_date'], format=\"%m/%d/%Y\")\n",
    "df_requests['end_date']=pd.to_datetime(df_requests['end_date'], format=\"%m/%d/%Y\")\n",
    "df_requests['request_date']=pd.to_datetime(df_requests['request_date'], format=\"%m/%d/%Y %H:%M\") #\"%d/%m/%y %H:%M\""
   ]
  },
  {
   "cell_type": "code",
   "execution_count": null,
   "id": "bd7f7242",
   "metadata": {},
   "outputs": [],
   "source": [
    "#   1. A Creation of request_date_new (DS -df_requests)\n",
    "# Creation of request_date_new from request_date.\n",
    "# Type- object\n",
    "\n",
    "df_requests[\"request_date_new\"]=pd.to_datetime(df_requests[\"request_date\"]).dt.date\n",
    "df_requests.head(5)"
   ]
  },
  {
   "cell_type": "code",
   "execution_count": null,
   "id": "c44c6e22",
   "metadata": {},
   "outputs": [],
   "source": [
    "# 2. Creation of request_day_day (DS -df_requests)\n",
    "# Creation of request_day_week (Monday, Tuasday...) from request_date.\n",
    "# Type of request_day_day - object\n",
    "df_requests[\"request_date_day\"]=pd.to_datetime(df_requests[\"request_date\"]).dt.day_name()    \n",
    "df_requests.head(5)"
   ]
  },
  {
   "cell_type": "code",
   "execution_count": null,
   "id": "00a6769d",
   "metadata": {},
   "outputs": [],
   "source": [
    "# 3. Creation of month_request (DS -df_requests)\n",
    "# Creation of request_month (January, February, March...) from request_date.\n",
    "# Type of month_request - object\n",
    "df_requests['month_request'] = pd.to_datetime(df_requests['request_date']).dt.month_name()\n",
    "df_requests.head(5)"
   ]
  },
  {
   "cell_type": "code",
   "execution_count": null,
   "id": "1fdc1fa3",
   "metadata": {},
   "outputs": [],
   "source": [
    "# 4. Creation of day_time_request (DS -df_requests)\n",
    "# Creation of day_time_request from request_date.\n",
    "# 00:00 -6:00 - \"night\"\n",
    "# 06:00 -12:00 - \"morning\"\n",
    "# 12:00 -18:00 - \"afternoon\"\n",
    "# 18:00 -24:00 - \"evening\"\n",
    "# Type- object\n",
    "\n",
    "df_requests['hour_request'] = pd.to_datetime(df_requests['request_date']).dt.hour\n",
    "df_requests.loc[df_requests['hour_request'] <= 6, \"day_time_request\"] = \"night\"\n",
    "df_requests.loc[(df_requests['hour_request'] > 6) & (df_requests['hour_request'] <= 12), \"day_time_request\"] = \"morning\"\n",
    "df_requests.loc[(df_requests['hour_request'] > 12) & (df_requests['hour_request'] <= 18), \"day_time_request\"] = \"afternoon\"\n",
    "df_requests.loc[df_requests['hour_request'] >= 18, \"day_time_request\"] = \"evening\"\n",
    "df_requests.head(5)"
   ]
  },
  {
   "cell_type": "code",
   "execution_count": null,
   "id": "083717a3",
   "metadata": {},
   "outputs": [],
   "source": [
    "# 5. Creation of days_before_departure (DS -df_requests)\n",
    "# Creation of days_before_departure = start_date-request_date\n",
    "\n",
    "df_requests[\"days_before_departure\"]=((df_requests[\"start_date\"]-df_requests[\"request_date\"])/np.timedelta64(1,\"D\")).astype(np.int64)\n",
    "df_requests.head(3)"
   ]
  },
  {
   "cell_type": "code",
   "execution_count": null,
   "id": "523f5088",
   "metadata": {
    "scrolled": true
   },
   "outputs": [],
   "source": [
    "# 6. Creation of in_europe (DS -df_requests)\n",
    "# Creation of destination_exotic from destination_name if country in Europe or not (1 - europe, 0 - not europe)\n",
    "# Type of in_europe - int64\n",
    "\n",
    "df_requests[\"country_lower_case\"]=df_requests[\"country_name\"].str.lower()\n",
    "\n",
    "european_countries = ['Albania', 'Andorra', 'Austria', 'Belarus', 'Belgium', 'Bosnia and Herzegovina', 'Bulgaria', 'Croatia', 'Cyprus', 'Czech Republic', 'Denmark', 'Estonia', 'Finland', 'France', 'Germany', 'Greece', 'Hungary', 'Iceland', 'Ireland', 'Italy', 'Kosovo', 'Latvia', 'Liechtenstein', 'Lithuania', 'Luxembourg', 'Malta', 'Moldova', 'Monaco', 'Montenegro', 'Netherlands', 'North Macedonia', 'Norway', 'Poland', 'Portugal', 'Romania', 'Russia', 'San Marino', 'Serbia', 'Slovakia', 'Slovenia', 'Spain', 'Sweden', 'Switzerland', 'Ukraine', 'United Kingdom']\n",
    "lowercase_countries = [country.lower() for country in european_countries]\n",
    "df_requests[\"in_europe\"]=df_requests[\"country_lower_case\"].isin(lowercase_countries).astype(int)\n",
    "df_requests.head(3)\n"
   ]
  },
  {
   "cell_type": "code",
   "execution_count": null,
   "id": "845cc1d1",
   "metadata": {},
   "outputs": [],
   "source": [
    "# 7.  Creation of num_passengers (DS -df_requests)\n",
    "# Creation of num_passengers from sum of variable adults and kids \n",
    "# Type of type_of_boat - int64\n",
    "df_requests['num_passengers']=df_requests['adults']+df_requests['kids']\n",
    "df_requests.head(5)"
   ]
  },
  {
   "cell_type": "code",
   "execution_count": null,
   "id": "fdcb0d0e",
   "metadata": {},
   "outputs": [],
   "source": [
    "# 8. Creation of kid_on_board (DS -df_requests)\n",
    "# Creation of kid_on_board telling if kids will be on board or not \n",
    "# Type of type_of_boat - int64\n",
    "\n",
    "df_requests['kid_on_board'] = df_requests['kids'].apply(lambda x: 1 if x > 0 else 0)\n",
    "df_requests.head(2)"
   ]
  },
  {
   "cell_type": "code",
   "execution_count": null,
   "id": "d23fe10b",
   "metadata": {},
   "outputs": [],
   "source": [
    "# 9. Creation of duration (DS -df_requests)\n",
    "# Creation of duration that tells us the differance between end_date and start_date.\n",
    "# Type of duration - int64\n",
    "df_requests[\"duration\"]=((df_requests[\"end_date\"]-df_requests[\"start_date\"])/np.timedelta64(1,\"D\")).astype(np.int64)"
   ]
  },
  {
   "cell_type": "code",
   "execution_count": null,
   "id": "bba24c47",
   "metadata": {},
   "outputs": [],
   "source": [
    "# 10. Creation of booked_already (DS -df_final)\n",
    "# Creation of book_already that checks if the person ve already booked or not\n",
    "# (1 - yes. 0 - no)"
   ]
  },
  {
   "cell_type": "code",
   "execution_count": null,
   "id": "330378a8",
   "metadata": {},
   "outputs": [],
   "source": [
    "# 11. Create of is_MAC and nb_of_logs (TO BE DELETED?)\n",
    "# Created from df_logins\n",
    "# 1 for ['Macintosh', 'iPhone','iPad', 'iPod'], 0 for the rest"
   ]
  },
  {
   "cell_type": "code",
   "execution_count": null,
   "id": "9b0a8001",
   "metadata": {},
   "outputs": [],
   "source": [
    "# Identify if log device is Apple product or not\n",
    "def get_mac(user_agent):\n",
    "    mac_list = ['Macintosh', 'iPhone','iPad', 'iPod']\n",
    "    for mac in mac_list:\n",
    "        if mac in user_agent:\n",
    "            return 1\n",
    "    return 0"
   ]
  },
  {
   "cell_type": "code",
   "execution_count": null,
   "id": "51d338b2",
   "metadata": {},
   "outputs": [],
   "source": [
    "# Add is_Mac column to user_logins dataframe\n",
    "df_logins['is_mac']=df_logins['user_agent'].apply(get_mac)"
   ]
  },
  {
   "cell_type": "code",
   "execution_count": null,
   "id": "ed3b8828",
   "metadata": {},
   "outputs": [],
   "source": [
    "# Groupby on id_user to 1) Gives the mean type of device used across all logins, 2) Count nb of logins per user and add columns\n",
    "%time\n",
    "mac_log_df = df_logins.groupby('id_user').agg({'is_mac':'mean','log_date':'count'})\\\n",
    "                                         .rename(columns={\"log_date\": \"nb_of_logs\"})"
   ]
  },
  {
   "cell_type": "code",
   "execution_count": null,
   "id": "7fd458df",
   "metadata": {},
   "outputs": [],
   "source": [
    "# Transform the mean into the most commonly used type of device\n",
    "%time\n",
    "common_device = lambda x: 0 if x<0.5 else 1\n",
    "# common_device(0.8)\n",
    "mac_log_df['is_mac']= mac_log_df['is_mac'].apply(common_device)\n",
    "mac_log_df"
   ]
  },
  {
   "cell_type": "markdown",
   "id": "3ba03a7c",
   "metadata": {},
   "source": [
    "# Merge \n"
   ]
  },
  {
   "cell_type": "markdown",
   "id": "14b936fc",
   "metadata": {},
   "source": [
    "## merge requests with bookings"
   ]
  },
  {
   "cell_type": "code",
   "execution_count": null,
   "id": "451daf89",
   "metadata": {},
   "outputs": [],
   "source": [
    "#merge left to keep all requests and only bookings with requests\n",
    "merged_df= df_requests.merge(df_bookings,on='id_user', how='left', suffixes=['_rq', '_bk'])\n",
    "\n"
   ]
  },
  {
   "cell_type": "code",
   "execution_count": null,
   "id": "ad0d2b71",
   "metadata": {},
   "outputs": [],
   "source": [
    "merged_df.shape"
   ]
  },
  {
   "cell_type": "code",
   "execution_count": null,
   "id": "6aee0e95",
   "metadata": {
    "scrolled": false
   },
   "outputs": [],
   "source": [
    "df_requests.shape"
   ]
  },
  {
   "cell_type": "code",
   "execution_count": null,
   "id": "5025923e",
   "metadata": {},
   "outputs": [],
   "source": [
    "#merged_df[merged_df['id_user']==41802].sort_values(by='date_diff', ascending=True).drop_duplicates(subset='id_request')"
   ]
  },
  {
   "cell_type": "markdown",
   "id": "9ea7b2df",
   "metadata": {},
   "source": [
    "## Merge with users"
   ]
  },
  {
   "cell_type": "code",
   "execution_count": null,
   "id": "8f7135ca",
   "metadata": {},
   "outputs": [],
   "source": [
    "merged_df= merged_df.merge(df_users,on='id_user',how='left', suffixes=['','_us'])\n",
    "\n",
    "\n"
   ]
  },
  {
   "cell_type": "code",
   "execution_count": null,
   "id": "41ec79dd",
   "metadata": {
    "scrolled": true
   },
   "outputs": [],
   "source": [
    "merged_df.shape"
   ]
  },
  {
   "cell_type": "markdown",
   "id": "e49a3610",
   "metadata": {},
   "source": [
    "## Merging User_log table with type of device and nb of logs"
   ]
  },
  {
   "cell_type": "code",
   "execution_count": null,
   "id": "18280868",
   "metadata": {},
   "outputs": [],
   "source": [
    "#Merge mac_log_df to merged_df and add the suffix lg (for log)\n",
    "merged_df= merged_df.merge(mac_log_df,on='id_user',how='left', suffixes=['','_lg'])"
   ]
  },
  {
   "cell_type": "code",
   "execution_count": null,
   "id": "6abd1914",
   "metadata": {},
   "outputs": [],
   "source": [
    "merged_df.columns"
   ]
  },
  {
   "cell_type": "markdown",
   "id": "25b0b009",
   "metadata": {},
   "source": [
    "# Feature creation"
   ]
  },
  {
   "cell_type": "code",
   "execution_count": null,
   "id": "dd37dcac",
   "metadata": {},
   "outputs": [],
   "source": [
    "# Creation of seniority_of_client\n",
    "merged_df[\"creation_date\"].replace(\"0000-00-00 00:00:00\",\"7/19/2009 10:54\",inplace=True)\n",
    "merged_df[\"creation_date\"]=pd.to_datetime(merged_df['creation_date'], format=\"%m/%d/%Y %H:%M\")\n",
    "merged_df[\"seniority_of_client\"]=(merged_df[\"request_date\"]-merged_df[\"creation_date\"]).dt.days"
   ]
  },
  {
   "cell_type": "code",
   "execution_count": null,
   "id": "47789ebd",
   "metadata": {},
   "outputs": [],
   "source": [
    "# Creation of month_depart\n",
    "merged_df['month_depart'] = pd.to_datetime(merged_df['start_date_rq']).dt.month_name()\n"
   ]
  },
  {
   "cell_type": "markdown",
   "id": "a7239ff4",
   "metadata": {},
   "source": [
    "# Create target"
   ]
  },
  {
   "cell_type": "code",
   "execution_count": null,
   "id": "036fe13a",
   "metadata": {},
   "outputs": [],
   "source": [
    "# Calculate the difference between the request's start date and booking's start date\n",
    "merged_df['date_diff'] = np.abs(pd.to_datetime(merged_df['start_date_rq']) - pd.to_datetime(merged_df['start_date_bk']))\n",
    "\n",
    "# Check if the difference is smaller than a certain threshold\n",
    "#threshold = pd.Timedelta('14 days')\n",
    "\n",
    "# Calculate the difference between the request's start date and booking's start date\n",
    "merged_df['date_diff'] = np.abs(pd.to_datetime(merged_df['start_date_rq']) - pd.to_datetime(merged_df['start_date_bk']))\n",
    "\n",
    "# Check if the difference is smaller than a certain threshold\n",
    "threshold = pd.Timedelta('14 days')\n",
    "\n",
    "# Create new column 'booked' 1: request with booking, 0: request without booking or request with datediff > 14 days\n",
    "merged_df['booked'] = np.where((merged_df['id_booking'].isna()) |  (merged_df['date_diff'] > threshold) , 0, 1)\n",
    "\n",
    "\n",
    "\n"
   ]
  },
  {
   "cell_type": "code",
   "execution_count": null,
   "id": "4aa48da2",
   "metadata": {},
   "outputs": [],
   "source": [
    "merged_df.shape"
   ]
  },
  {
   "cell_type": "code",
   "execution_count": null,
   "id": "f12a77f9",
   "metadata": {},
   "outputs": [],
   "source": [
    "merged_df[merged_df[\"id_user\"]==41802]"
   ]
  },
  {
   "cell_type": "code",
   "execution_count": null,
   "id": "f7d88218",
   "metadata": {},
   "outputs": [],
   "source": [
    "# Drop duplicated requests\n",
    "\n",
    "merged_df = merged_df.sort_values(by='date_diff', ascending=True).drop_duplicates(subset='id_request', keep='first')\n"
   ]
  },
  {
   "cell_type": "code",
   "execution_count": null,
   "id": "06be230f",
   "metadata": {},
   "outputs": [],
   "source": [
    "# Re-order\n",
    "merged_df = merged_df.sort_values(by='id_request', ascending=True)"
   ]
  },
  {
   "cell_type": "code",
   "execution_count": null,
   "id": "86307132",
   "metadata": {},
   "outputs": [],
   "source": [
    "merged_df[merged_df[\"id_user\"]==41802]"
   ]
  },
  {
   "cell_type": "code",
   "execution_count": null,
   "id": "1712e72d",
   "metadata": {},
   "outputs": [],
   "source": [
    "#merged_df = merged_df[[ 'id_user', 'is_new_user', 'start_date_rq',\n",
    "#       'end_date_rq' ,\n",
    "#       'id_charter_company', 'charter_type', 'country_name',\n",
    "#       'destination_flexible', 'flexible_date', 'request_date_day',\n",
    "#       'month_request', 'day_time_request',\n",
    "#       'days_before_departure',  'in_europe',\n",
    "#       'num_passengers', 'kid_on_board', 'duration', 'id_booking',\n",
    "#        'start_date_bk',\n",
    "#       'end_date_bk',   'civility',\n",
    "#       'country_name_us', 'is_mac', 'nb_of_logs', 'booked']]"
   ]
  },
  {
   "cell_type": "markdown",
   "id": "ac4ae01f",
   "metadata": {},
   "source": [
    "# Outliers"
   ]
  },
  {
   "cell_type": "code",
   "execution_count": null,
   "id": "e530d92c",
   "metadata": {},
   "outputs": [],
   "source": [
    "import plotly.express as px\n",
    "\n",
    "\n",
    "# Outliers analysis:\n",
    "# 🕵🏻‍♀️ Dataset distributions and patterns\n",
    "# 🕵🏻‍♀️ Central tendency metrics such as the mean of a feature\n",
    "# 🕵🏻‍♀️ Dispersion metrics such as standard deviation\n",
    "# 🤖 Performance of a Machine Learning model\n",
    "\n",
    "#Conclusions (code below):\n",
    "# delete rowns with days_before_departure values with bigger than 356*2=712 days\n",
    "# delete rowns with num_passangers values with bigger than 20 days\n",
    "# delete rows with duration values bigger than 28 days\n",
    "# Replacing/deleting missing 'country_name'\n",
    "# #Replacing/deleting missing 'country_name_us'\n",
    "# replacing or deleting Dr/Prof/Nan civility "
   ]
  },
  {
   "cell_type": "code",
   "execution_count": null,
   "id": "86dffc83",
   "metadata": {},
   "outputs": [],
   "source": [
    "fig = px.histogram(merged_df, x='id_charter_company')\n",
    "fig.show()\n",
    "# The biggest renter in the world. 4 times bigger than second, third company one. "
   ]
  },
  {
   "cell_type": "code",
   "execution_count": null,
   "id": "61bd0c11",
   "metadata": {},
   "outputs": [],
   "source": [
    "fig = px.histogram(merged_df, x='charter_type')\n",
    "fig.show()"
   ]
  },
  {
   "cell_type": "code",
   "execution_count": null,
   "id": "34934e6e",
   "metadata": {
    "scrolled": true
   },
   "outputs": [],
   "source": [
    "fig = px.histogram(merged_df, x='destination_flexible')\n",
    "fig.show()"
   ]
  },
  {
   "cell_type": "code",
   "execution_count": null,
   "id": "26e5c0a9",
   "metadata": {},
   "outputs": [],
   "source": [
    "fig = px.histogram(merged_df, x='flexible_date')\n",
    "fig.show()"
   ]
  },
  {
   "cell_type": "code",
   "execution_count": null,
   "id": "a41f01ec",
   "metadata": {},
   "outputs": [],
   "source": [
    "\n",
    "fig = px.histogram(merged_df, x='num_passengers')\n",
    "fig.show()\n"
   ]
  },
  {
   "cell_type": "code",
   "execution_count": null,
   "id": "264df813",
   "metadata": {},
   "outputs": [],
   "source": [
    "fig = px.box(merged_df, y=\"num_passengers\")\n",
    "fig.show()\n",
    "# we keep all rows\n"
   ]
  },
  {
   "cell_type": "code",
   "execution_count": null,
   "id": "adf583b6",
   "metadata": {},
   "outputs": [],
   "source": [
    "merged_df.columns"
   ]
  },
  {
   "cell_type": "code",
   "execution_count": null,
   "id": "74b0127e",
   "metadata": {},
   "outputs": [],
   "source": [
    "fig = px.histogram(merged_df, x='request_date_day')\n",
    "fig.show()"
   ]
  },
  {
   "cell_type": "code",
   "execution_count": null,
   "id": "0fce0416",
   "metadata": {
    "scrolled": true
   },
   "outputs": [],
   "source": [
    "fig = px.histogram(merged_df, x='month_request')\n",
    "fig.show()\n"
   ]
  },
  {
   "cell_type": "code",
   "execution_count": null,
   "id": "1ce50c4e",
   "metadata": {},
   "outputs": [],
   "source": [
    "fig = px.histogram(merged_df, x='day_time_request')\n",
    "fig.show()"
   ]
  },
  {
   "cell_type": "code",
   "execution_count": null,
   "id": "da4c81c9",
   "metadata": {
    "scrolled": true
   },
   "outputs": [],
   "source": [
    "fig = px.box(merged_df, y=\"days_before_departure\")\n",
    "fig.show()\n",
    "# delete rowns with days_before_departure values with bigger than 365*2=730 days\n",
    "\n"
   ]
  },
  {
   "cell_type": "code",
   "execution_count": null,
   "id": "09c9f28d",
   "metadata": {},
   "outputs": [],
   "source": [
    "merged_df.drop(merged_df[merged_df[\"days_before_departure\"] > 730].index, inplace = True)"
   ]
  },
  {
   "cell_type": "code",
   "execution_count": null,
   "id": "8dc86703",
   "metadata": {},
   "outputs": [],
   "source": [
    "fig = px.histogram(merged_df, x='in_europe')\n",
    "fig.show()"
   ]
  },
  {
   "cell_type": "code",
   "execution_count": null,
   "id": "39da56d8",
   "metadata": {},
   "outputs": [],
   "source": [
    "fig = px.box(merged_df, x=\"duration\")\n",
    "fig.show()\n",
    "# delete rows with duration values bigger than 28 days"
   ]
  },
  {
   "cell_type": "code",
   "execution_count": null,
   "id": "ed151241",
   "metadata": {},
   "outputs": [],
   "source": [
    "fig = px.histogram(merged_df, x='duration')\n",
    "fig.show()"
   ]
  },
  {
   "cell_type": "code",
   "execution_count": null,
   "id": "425c0d10",
   "metadata": {},
   "outputs": [],
   "source": [
    "merged_df.drop(merged_df[merged_df[\"duration\"] > 28].index, inplace = True)"
   ]
  },
  {
   "cell_type": "code",
   "execution_count": null,
   "id": "5f4374ee",
   "metadata": {},
   "outputs": [],
   "source": [
    "fig = px.histogram(merged_df, x='civility')\n",
    "fig.show()"
   ]
  },
  {
   "cell_type": "code",
   "execution_count": null,
   "id": "d535ef2b",
   "metadata": {},
   "outputs": [],
   "source": [
    "merged_df.isna().sum()"
   ]
  },
  {
   "cell_type": "code",
   "execution_count": null,
   "id": "d3c957a9",
   "metadata": {},
   "outputs": [],
   "source": [
    "#Replacing/deleting 'country_name'\n",
    "\n",
    "# merged_df['country_name'].apply(lambda x: x.fillna(x.mode, inplace=True))\n",
    "#1. Change by mode\n",
    "#merged_df['country_name'] = merged_df['country_name'].fillna(merged_df['country_name'].mode()[0])\n",
    "#2. Drop rows\n",
    "#merged_df = merged_df[merged_df['country_name'].notna()]"
   ]
  },
  {
   "cell_type": "code",
   "execution_count": null,
   "id": "ace19627",
   "metadata": {},
   "outputs": [],
   "source": [
    "#Replacing/deleting 'country_name_us'\n",
    "\n",
    "# merged_df['country_name_us'].apply(lambda x: x.fillna(x.mode, inplace=True))\n",
    "#1. Change by mode\n",
    "#merged_df['country_name_us'] = merged_df['country_name_us'].fillna(merged_df['country_name_us'].mode()[0])\n",
    "#2. Drop rows\n",
    "#merged_df = merged_df[merged_df['country_name_us'].notna()]"
   ]
  },
  {
   "cell_type": "markdown",
   "id": "b1811901",
   "metadata": {},
   "source": [
    "# Problems with merge (to be checked)"
   ]
  },
  {
   "cell_type": "code",
   "execution_count": null,
   "id": "7546a58b",
   "metadata": {},
   "outputs": [],
   "source": [
    "## Two encountered problems with merge:"
   ]
  },
  {
   "cell_type": "code",
   "execution_count": null,
   "id": "d4c0034b",
   "metadata": {},
   "outputs": [],
   "source": [
    "df_requests[df_requests[\"id_user\"]==41802]"
   ]
  },
  {
   "cell_type": "code",
   "execution_count": null,
   "id": "11bdb3ff",
   "metadata": {},
   "outputs": [],
   "source": [
    "df_bookings[df_bookings[\"id_user\"]==41802]"
   ]
  },
  {
   "cell_type": "code",
   "execution_count": null,
   "id": "8f48669b",
   "metadata": {},
   "outputs": [],
   "source": [
    "df_logins[df_logins[\"id_user\"]==41802]"
   ]
  },
  {
   "cell_type": "code",
   "execution_count": null,
   "id": "0ebe0cc5",
   "metadata": {},
   "outputs": [],
   "source": [
    "df_users[df_users[\"id_user\"]==41802]"
   ]
  },
  {
   "cell_type": "code",
   "execution_count": null,
   "id": "1ae95232",
   "metadata": {},
   "outputs": [],
   "source": [
    "#example of id_user=41802  where we keep two requests and assign them bookings\n",
    "\n",
    "merged_df[merged_df[\"id_user\"]==41802]"
   ]
  },
  {
   "cell_type": "code",
   "execution_count": null,
   "id": "13cdcca2",
   "metadata": {},
   "outputs": [],
   "source": [
    "merged_df[merged_df[\"id_user\"]==41802]"
   ]
  },
  {
   "cell_type": "code",
   "execution_count": null,
   "id": "1726f587",
   "metadata": {},
   "outputs": [],
   "source": [
    "#Second problem with merge"
   ]
  },
  {
   "cell_type": "code",
   "execution_count": null,
   "id": "dad27851",
   "metadata": {},
   "outputs": [],
   "source": [
    "df_requests[df_requests[\"id_user\"]==41848]"
   ]
  },
  {
   "cell_type": "code",
   "execution_count": null,
   "id": "40587a08",
   "metadata": {},
   "outputs": [],
   "source": [
    "df_bookings[df_bookings[\"id_user\"]==41848]"
   ]
  },
  {
   "cell_type": "code",
   "execution_count": null,
   "id": "1a4e751e",
   "metadata": {},
   "outputs": [],
   "source": [
    "df_logins[df_logins[\"id_user\"]==41848]"
   ]
  },
  {
   "cell_type": "code",
   "execution_count": null,
   "id": "8e1fc2e2",
   "metadata": {},
   "outputs": [],
   "source": [
    "df_users[df_users[\"id_user\"]==41848]"
   ]
  },
  {
   "cell_type": "code",
   "execution_count": null,
   "id": "28053485",
   "metadata": {},
   "outputs": [],
   "source": [
    "merged_df[merged_df[\"id_user\"]==41848]"
   ]
  },
  {
   "cell_type": "code",
   "execution_count": null,
   "id": "1b074c7e",
   "metadata": {},
   "outputs": [],
   "source": [
    "# Out of 4 initial requests we kept 2 requests that requests/departure dates were similar. We lost all requests that werent booked. \n",
    "merged_df[merged_df[\"id_user\"]==47097]    "
   ]
  },
  {
   "cell_type": "markdown",
   "id": "574f0432",
   "metadata": {},
   "source": [
    "# Pipeline"
   ]
  },
  {
   "cell_type": "code",
   "execution_count": null,
   "id": "be220df8",
   "metadata": {},
   "outputs": [],
   "source": [
    "# Function to transform civility column with good proportion\n",
    "import random\n",
    "\n",
    "def civility_replacer(serie):\n",
    "    # Replace values of 'Dr.' and 'Prof.' with NaN\n",
    "    values_to_replace = ['Dr.', 'Prof.']\n",
    "    serie.replace(values_to_replace, np.nan, inplace=True)\n",
    "\n",
    "    # Calculate the ratio of female to male\n",
    "    female_count = serie[serie['civility'] == 'Ms'].shape[0]\n",
    "    male_count = serie[serie['civility'] == 'Mr'].shape[0]\n",
    "    ratio = round(female_count / (female_count + male_count), 1)\n",
    "\n",
    "    # Replace NaN values with 'Ms' or 'Mr' using the calculated ratio\n",
    "    nan_indexes = serie[serie.isna()].index\n",
    "    replacement = random.choices(['Ms', 'Mr'], weights=[ratio, (1-ratio)], k=len(nan_indexes))\n",
    "    serie.loc[nan_indexes, 'civility'] = replacement\n",
    "    #merged_df['civility'].loc[nan_indexes, 'civility'] = replacement\n",
    "    return serie"
   ]
  },
  {
   "cell_type": "code",
   "execution_count": null,
   "id": "1cd22300",
   "metadata": {},
   "outputs": [],
   "source": [
    "object_list = list(merged_df.select_dtypes(include=['object']).columns)\n",
    "object_list"
   ]
  },
  {
   "cell_type": "code",
   "execution_count": null,
   "id": "60a94458",
   "metadata": {},
   "outputs": [],
   "source": []
  },
  {
   "cell_type": "code",
   "execution_count": null,
   "id": "8fbdd0c0",
   "metadata": {
    "scrolled": true
   },
   "outputs": [],
   "source": [
    "from sklearn.preprocessing import RobustScaler, StandardScaler, OneHotEncoder, FunctionTransformer\n",
    "from sklearn.pipeline import Pipeline, make_pipeline, FeatureUnion, make_union\n",
    "from sklearn.model_selection import train_test_split\n",
    "from sklearn.compose import ColumnTransformer, make_column_transformer, make_column_selector\n",
    "from sklearn.linear_model import SGDClassifier, LogisticRegression\n",
    "from sklearn.impute import SimpleImputer\n",
    "\n",
    "\n",
    "r_scaler = RobustScaler()\n",
    "ohe = OneHotEncoder(sparse_output=False, handle_unknown='ignore')\n",
    "imputer = SimpleImputer(strategy='most_frequent')\n",
    "ohe_custom = OneHotEncoder(sparse_output=False, handle_unknown='ignore',drop = 'if_binary' )\n",
    "\n",
    "num_transformer = make_pipeline(imputer, r_scaler)\n",
    "num_col = make_column_selector(dtype_include=['int64','float64'])\n",
    "\n",
    "cat_transformer = make_pipeline(imputer, ohe)\n",
    "cat_col = ['country_name',\n",
    "         'request_date_day',\n",
    "         'month_request',\n",
    "         'day_time_request',\n",
    "         'country_name_us']\n",
    "\n",
    "civility = FunctionTransformer(lambda x: civility_replacer(x))\n",
    "civility.get_feature_names_out = (lambda self: ['civility'])\n",
    "\n",
    "custom_transformer = make_pipeline(civility, ohe_custom)\n",
    "custom_col = ['civility']\n",
    "\n",
    "preproc_basic = make_column_transformer(\n",
    "            (num_transformer,num_col),\n",
    "            (cat_transformer,cat_col),\n",
    "            (custom_transformer, custom_col),\n",
    "            remainder='passthrough')\n",
    "\n",
    "\n",
    "\n",
    "\n",
    "\n",
    "\n",
    "model = LogisticRegression(max_iter=1000)\n",
    "\n",
    "preproc_full = make_pipeline(preproc_basic, model)\n",
    "\n",
    "preproc_full"
   ]
  },
  {
   "cell_type": "code",
   "execution_count": null,
   "id": "74ee2a2e",
   "metadata": {},
   "outputs": [],
   "source": [
    "preproc_basic"
   ]
  },
  {
   "cell_type": "code",
   "execution_count": null,
   "id": "1faa1d14",
   "metadata": {},
   "outputs": [],
   "source": [
    "preproc_basic.get_feature_names_out()"
   ]
  },
  {
   "cell_type": "code",
   "execution_count": null,
   "id": "2ff9ad33",
   "metadata": {},
   "outputs": [],
   "source": [
    "# Clean all columns of merged_df to be used in final data\n",
    "\n",
    "merged_df.columns\n"
   ]
  },
  {
   "cell_type": "code",
   "execution_count": null,
   "id": "bb4d51c7",
   "metadata": {},
   "outputs": [],
   "source": [
    "data = merged_df[['id_user', 'is_new_user', 'id_charter_company', 'charter_type', 'country_name',\n",
    "       'destination_flexible', 'flexible_date', 'request_date_day',\n",
    "       'month_request', 'day_time_request',\n",
    "       'days_before_departure',  'in_europe',\n",
    "       'num_passengers', 'kid_on_board', 'duration', 'civility',\n",
    "       'country_name_us', 'is_mac', 'booked']]"
   ]
  },
  {
   "cell_type": "code",
   "execution_count": null,
   "id": "98169e7a",
   "metadata": {},
   "outputs": [],
   "source": [
    "data.columns"
   ]
  },
  {
   "cell_type": "markdown",
   "id": "99cc29fb",
   "metadata": {},
   "source": [
    "## First model before re-balancing"
   ]
  },
  {
   "cell_type": "code",
   "execution_count": null,
   "id": "62efea9d",
   "metadata": {},
   "outputs": [],
   "source": [
    "# Defining the features and the target\n",
    "\n",
    "X = data.drop(columns=['booked'])\n",
    "y = data['booked']\n",
    "\n",
    "# Train-Test split\n",
    "\n",
    "X_train, X_test, y_train, y_test = train_test_split(X, y, test_size = 0.30)\n",
    "\n",
    "\n",
    "# y_train=pd.DataFrame(y_train)\n",
    "# y_test=pd.DataFrame(y_test)\n",
    "\n",
    "X_train.shape, X_test.shape, y_train.shape, y_test.shape"
   ]
  },
  {
   "cell_type": "code",
   "execution_count": null,
   "id": "a5c18bc7",
   "metadata": {},
   "outputs": [],
   "source": [
    "preproc_basic.fit_transform(X_train).shape"
   ]
  },
  {
   "cell_type": "code",
   "execution_count": null,
   "id": "34519f10",
   "metadata": {},
   "outputs": [],
   "source": [
    "data.info()"
   ]
  },
  {
   "cell_type": "code",
   "execution_count": null,
   "id": "a6c51b06",
   "metadata": {},
   "outputs": [],
   "source": [
    "data.nunique()"
   ]
  },
  {
   "cell_type": "code",
   "execution_count": null,
   "id": "5a496bf8",
   "metadata": {},
   "outputs": [],
   "source": [
    "X_train.columns"
   ]
  },
  {
   "cell_type": "code",
   "execution_count": null,
   "id": "8378f35e",
   "metadata": {},
   "outputs": [],
   "source": [
    "X_train_preproc = preproc_basic.fit_transform(X_train)\n",
    "pd.DataFrame(X_train_preproc).isna().sum()"
   ]
  },
  {
   "cell_type": "code",
   "execution_count": null,
   "id": "e449792d",
   "metadata": {},
   "outputs": [],
   "source": [
    "preproc_full.fit(X_train,y_train)"
   ]
  },
  {
   "cell_type": "code",
   "execution_count": null,
   "id": "794dcde0",
   "metadata": {
    "scrolled": true
   },
   "outputs": [],
   "source": [
    "preproc_full.predict(X_test)"
   ]
  },
  {
   "cell_type": "code",
   "execution_count": null,
   "id": "ef2a51a6",
   "metadata": {},
   "outputs": [],
   "source": [
    "# array = preproc_full.predict(X_test)\n",
    "# array.unique()"
   ]
  },
  {
   "cell_type": "code",
   "execution_count": null,
   "id": "2b80054b",
   "metadata": {},
   "outputs": [],
   "source": [
    "preproc_full.score(X_test, y_test)"
   ]
  },
  {
   "cell_type": "code",
   "execution_count": null,
   "id": "f72686a5",
   "metadata": {},
   "outputs": [],
   "source": [
    "from sklearn.model_selection import cross_val_score, cross_validate\n",
    "\n"
   ]
  },
  {
   "cell_type": "code",
   "execution_count": null,
   "id": "16e2ebbb",
   "metadata": {},
   "outputs": [],
   "source": [
    "# Cross-validate Pipeline\n",
    "cross_val_score(preproc_full, X_train, y_train, cv=5, scoring='accuracy',n_jobs=-1).mean()"
   ]
  },
  {
   "cell_type": "code",
   "execution_count": null,
   "id": "27c8d5ee",
   "metadata": {},
   "outputs": [],
   "source": [
    "import sklearn"
   ]
  },
  {
   "cell_type": "code",
   "execution_count": null,
   "id": "74a9c58b",
   "metadata": {},
   "outputs": [],
   "source": [
    "sklearn.metrics.get_scorer_names()"
   ]
  },
  {
   "cell_type": "code",
   "execution_count": null,
   "id": "ecf072d5",
   "metadata": {},
   "outputs": [],
   "source": [
    "cv= cross_validate(preproc_full, X_train, y_train, scoring = ['accuracy', 'precision', 'recall', 'f1'], cv=5, n_jobs=-1)"
   ]
  },
  {
   "cell_type": "code",
   "execution_count": null,
   "id": "9431213f",
   "metadata": {},
   "outputs": [],
   "source": [
    "pd.DataFrame(cv).mean()"
   ]
  },
  {
   "cell_type": "markdown",
   "id": "4f4725ad",
   "metadata": {},
   "source": [
    "## Re-balancing by undersampling"
   ]
  },
  {
   "cell_type": "code",
   "execution_count": null,
   "id": "3f35f2aa",
   "metadata": {},
   "outputs": [],
   "source": [
    "data.columns"
   ]
  },
  {
   "cell_type": "code",
   "execution_count": null,
   "id": "11bef95e",
   "metadata": {},
   "outputs": [],
   "source": [
    "data.shape"
   ]
  },
  {
   "cell_type": "code",
   "execution_count": null,
   "id": "6787da97",
   "metadata": {},
   "outputs": [],
   "source": [
    "data.describe()"
   ]
  },
  {
   "cell_type": "code",
   "execution_count": null,
   "id": "67e85e90",
   "metadata": {},
   "outputs": [],
   "source": [
    "# Create a train set and a test set\n",
    "data_train, data_test = train_test_split(data, test_size = 0.30)"
   ]
  },
  {
   "cell_type": "code",
   "execution_count": null,
   "id": "259aca37",
   "metadata": {},
   "outputs": [],
   "source": [
    "data_train.shape, data_test.shape"
   ]
  },
  {
   "cell_type": "markdown",
   "id": "59a2916f",
   "metadata": {},
   "source": [
    "### Create Target 1 dataframe from train set"
   ]
  },
  {
   "cell_type": "code",
   "execution_count": null,
   "id": "382da029",
   "metadata": {},
   "outputs": [],
   "source": [
    "data_1 = data_train[data_train['booked'] == 1]\n",
    "data_1.shape"
   ]
  },
  {
   "cell_type": "markdown",
   "id": "55f4a7c2",
   "metadata": {},
   "source": [
    "### Create Target 0 dataframe from train set and reduce it to 1.5 the size of Target 1 data set"
   ]
  },
  {
   "cell_type": "code",
   "execution_count": null,
   "id": "cc052d09",
   "metadata": {},
   "outputs": [],
   "source": [
    "data_0 = data_train[data_train['booked'] == 0]\\\n",
    "        .sample(n=round(len(data_1)*1.5), random_state=42)\n",
    "data_0.shape"
   ]
  },
  {
   "cell_type": "markdown",
   "id": "f48a3635",
   "metadata": {},
   "source": [
    "### Concatenate undersampled target 0 and target 1 datasets"
   ]
  },
  {
   "cell_type": "code",
   "execution_count": null,
   "id": "913ed78a",
   "metadata": {},
   "outputs": [],
   "source": [
    "data_undersampled = pd.concat([data_0, data_1], axis=0).sample(frac=1, random_state=42)\n",
    "data_undersampled"
   ]
  },
  {
   "cell_type": "code",
   "execution_count": null,
   "id": "e7d2b3ef",
   "metadata": {},
   "outputs": [],
   "source": [
    "data_undersampled.shape"
   ]
  },
  {
   "cell_type": "markdown",
   "id": "7a1ed6f7",
   "metadata": {},
   "source": [
    "### Create X_train and y_train from rebalanced dataset"
   ]
  },
  {
   "cell_type": "code",
   "execution_count": null,
   "id": "638b7350",
   "metadata": {},
   "outputs": [],
   "source": [
    "X_train = data_undersampled.drop(columns='booked')"
   ]
  },
  {
   "cell_type": "code",
   "execution_count": null,
   "id": "f5b5fe00",
   "metadata": {},
   "outputs": [],
   "source": [
    "y_train = data_undersampled['booked']"
   ]
  },
  {
   "cell_type": "markdown",
   "id": "5d63bb9d",
   "metadata": {},
   "source": [
    "### Create X_test and y_test from original test dataset"
   ]
  },
  {
   "cell_type": "code",
   "execution_count": null,
   "id": "4654aeff",
   "metadata": {},
   "outputs": [],
   "source": [
    "X_test = data_test.drop(columns='booked')\n",
    "y_test = data_test['booked']"
   ]
  },
  {
   "cell_type": "code",
   "execution_count": null,
   "id": "7cca5fbc",
   "metadata": {},
   "outputs": [],
   "source": [
    "X_train.head()"
   ]
  },
  {
   "cell_type": "code",
   "execution_count": null,
   "id": "5a78d134",
   "metadata": {},
   "outputs": [],
   "source": [
    "X_train_preproc = preproc_basic.fit_transform(X_train)"
   ]
  },
  {
   "cell_type": "code",
   "execution_count": null,
   "id": "4cbfced5",
   "metadata": {},
   "outputs": [],
   "source": [
    "# type(X_train_preproc)\n",
    "X_train_preproc =  pd.DataFrame(X_train_preproc)\n",
    "X_train_preproc.head()\n",
    "# X_train_preproc.shape"
   ]
  },
  {
   "cell_type": "code",
   "execution_count": null,
   "id": "4ee4d04e",
   "metadata": {},
   "outputs": [],
   "source": [
    "preproc_full.fit(X_train,y_train)"
   ]
  },
  {
   "cell_type": "code",
   "execution_count": null,
   "id": "6457363a",
   "metadata": {},
   "outputs": [],
   "source": [
    "preproc_full.predict(X_test)"
   ]
  },
  {
   "cell_type": "code",
   "execution_count": null,
   "id": "bf114188",
   "metadata": {},
   "outputs": [],
   "source": [
    "preproc_full.score(X_test,y_test)"
   ]
  },
  {
   "cell_type": "code",
   "execution_count": null,
   "id": "112c30d1",
   "metadata": {},
   "outputs": [],
   "source": [
    "import lazypredict\n",
    "from lazypredict.Supervised import LazyClassifier"
   ]
  },
  {
   "cell_type": "code",
   "execution_count": null,
   "id": "b2cff610",
   "metadata": {},
   "outputs": [],
   "source": [
    "# clf = LazyClassifier(verbose=0,ignore_warnings=True, custom_metric=None)\n",
    "# models,predictions = clf.fit(X_train, X_test, y_train, y_test)\n",
    "# models"
   ]
  },
  {
   "cell_type": "code",
   "execution_count": null,
   "id": "511f7ed6",
   "metadata": {},
   "outputs": [],
   "source": [
    "import seaborn as sns"
   ]
  },
  {
   "cell_type": "markdown",
   "id": "90d785aa",
   "metadata": {},
   "source": [
    "data = avant split\n",
    "       avant le undersampling\n",
    "       avant le pre-process\n",
    "\n",
    "        \n",
    "correlation = apres preprocess\n"
   ]
  },
  {
   "cell_type": "code",
   "execution_count": null,
   "id": "a16bfc78",
   "metadata": {},
   "outputs": [],
   "source": [
    "# Heatmap of pairwise correlations\n",
    "correlation_matrix = X_train_preproc.corr()\n",
    "column_names = correlation_matrix.columns\n",
    "# sns.heatmap(correlation_matrix, xticklabels=column_names, yticklabels=column_names,cmap= \"bwr\");"
   ]
  },
  {
   "cell_type": "code",
   "execution_count": null,
   "id": "0a0421f3",
   "metadata": {},
   "outputs": [],
   "source": [
    "# Converting the correlation matrix into a DataFrame\n",
    "corr_df = correlation_matrix.stack().reset_index()\n",
    "corr_df\n",
    "\n",
    "\n",
    "# Renaming the columns\n",
    "corr_df.columns = ['feature_1','feature_2', 'correlation']\n",
    "\n",
    "# Remove \"self correlations\"\n",
    "no_self_correlation = (corr_df['feature_1'] != corr_df['feature_2'])\n",
    "corr_df = corr_df[no_self_correlation]\n",
    "\n",
    "\n",
    "# Computing the absolute correlation\n",
    "corr_df['absolute_correlation'] = np.abs(corr_df['correlation'])\n",
    "\n",
    "# Showing the top 5 most correlated pairs of feature / :: double column to step every 2 lines\n",
    "corr_df.sort_values(by=\"absolute_correlation\", ascending=False).head(5*2)[::2]"
   ]
  },
  {
   "cell_type": "code",
   "execution_count": null,
   "id": "da8d57bc",
   "metadata": {},
   "outputs": [],
   "source": [
    "X_train_preproc.columns"
   ]
  },
  {
   "cell_type": "code",
   "execution_count": null,
   "id": "8f9468bb",
   "metadata": {},
   "outputs": [],
   "source": [
    "\n",
    "\n",
    "preproc_full_LogReg = make_pipeline(preproc_basic, LogisticRegression())\n",
    "preproc_full_KNN = make_pipeline(preproc_basic, LogisticRegression())\n",
    "preproc_full_SGDClassifier = make_pipeline(preproc_basic, LogisticRegression())\n",
    "\n",
    "cross val sur chaque pipeline/model\n",
    "garder les 2 meilleurs\n",
    "Gridsearch\n",
    "Sauvegarder le resultat dans example: search_KNN = GridSearchCV(pipeline_KNN) ou RandomizedSearchCV (voir Lesson:model Tuning)\n",
    "search_KNN.best_params\n",
    "search_KNN.best_estimator_  --> deja entraine (fit) --> plus besoin de faire preproc_full_KNN.fit(X_train, y_train)\n",
    "\n",
    "model = search_KNN.best_estimator\n",
    "model.predict( test)\n",
    "model.score( test)\n"
   ]
  },
  {
   "cell_type": "markdown",
   "id": "6069a172",
   "metadata": {},
   "source": [
    "DIG INTO WHICH METRIC IS THE MOST RELEVANT !!!"
   ]
  }
 ],
 "metadata": {
  "kernelspec": {
   "display_name": "Python 3 (ipykernel)",
   "language": "python",
   "name": "python3"
  },
  "language_info": {
   "codemirror_mode": {
    "name": "ipython",
    "version": 3
   },
   "file_extension": ".py",
   "mimetype": "text/x-python",
   "name": "python",
   "nbconvert_exporter": "python",
   "pygments_lexer": "ipython3",
   "version": "3.10.6"
  },
  "toc": {
   "base_numbering": 1,
   "nav_menu": {},
   "number_sections": true,
   "sideBar": true,
   "skip_h1_title": false,
   "title_cell": "Table of Contents",
   "title_sidebar": "Contents",
   "toc_cell": false,
   "toc_position": {
    "height": "calc(100% - 180px)",
    "left": "10px",
    "top": "150px",
    "width": "288px"
   },
   "toc_section_display": true,
   "toc_window_display": true
  }
 },
 "nbformat": 4,
 "nbformat_minor": 5
}
