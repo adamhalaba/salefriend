{
 "cells": [
  {
   "cell_type": "code",
   "execution_count": 1,
   "metadata": {},
   "outputs": [],
   "source": [
    "import pandas as pd"
   ]
  },
  {
   "cell_type": "code",
   "execution_count": 4,
   "metadata": {},
   "outputs": [
    {
     "data": {
      "text/html": [
       "<div>\n",
       "<style scoped>\n",
       "    .dataframe tbody tr th:only-of-type {\n",
       "        vertical-align: middle;\n",
       "    }\n",
       "\n",
       "    .dataframe tbody tr th {\n",
       "        vertical-align: top;\n",
       "    }\n",
       "\n",
       "    .dataframe thead th {\n",
       "        text-align: right;\n",
       "    }\n",
       "</style>\n",
       "<table border=\"1\" class=\"dataframe\">\n",
       "  <thead>\n",
       "    <tr style=\"text-align: right;\">\n",
       "      <th></th>\n",
       "      <th>id_user</th>\n",
       "      <th>id_support</th>\n",
       "      <th>email_is_valid</th>\n",
       "      <th>creation_date</th>\n",
       "      <th>last_login_date</th>\n",
       "      <th>auto_reminder_date</th>\n",
       "      <th>civility</th>\n",
       "      <th>birthday</th>\n",
       "      <th>timezone_offset</th>\n",
       "      <th>country</th>\n",
       "      <th>country_name</th>\n",
       "      <th>default_language</th>\n",
       "      <th>default_currency</th>\n",
       "      <th>newsletter</th>\n",
       "      <th>partners_newsletter</th>\n",
       "    </tr>\n",
       "  </thead>\n",
       "  <tbody>\n",
       "    <tr>\n",
       "      <th>0</th>\n",
       "      <td>1</td>\n",
       "      <td>1</td>\n",
       "      <td>1</td>\n",
       "      <td>0000-00-00 00:00:00</td>\n",
       "      <td>11/9/2022 1:41</td>\n",
       "      <td>10/13/2023</td>\n",
       "      <td>Mr</td>\n",
       "      <td>2/5/1969</td>\n",
       "      <td>NaN</td>\n",
       "      <td>FR</td>\n",
       "      <td>France</td>\n",
       "      <td>en_US</td>\n",
       "      <td>NaN</td>\n",
       "      <td>1</td>\n",
       "      <td>1</td>\n",
       "    </tr>\n",
       "    <tr>\n",
       "      <th>1</th>\n",
       "      <td>6</td>\n",
       "      <td>2</td>\n",
       "      <td>1</td>\n",
       "      <td>0000-00-00 00:00:00</td>\n",
       "      <td>11/10/2022 15:35</td>\n",
       "      <td>10/13/2023</td>\n",
       "      <td>Mr</td>\n",
       "      <td>2/26/1984</td>\n",
       "      <td>NaN</td>\n",
       "      <td>FR</td>\n",
       "      <td>France</td>\n",
       "      <td>fr_FR</td>\n",
       "      <td>NaN</td>\n",
       "      <td>0</td>\n",
       "      <td>0</td>\n",
       "    </tr>\n",
       "    <tr>\n",
       "      <th>2</th>\n",
       "      <td>10</td>\n",
       "      <td>172</td>\n",
       "      <td>1</td>\n",
       "      <td>0000-00-00 00:00:00</td>\n",
       "      <td>4/26/2022 14:55</td>\n",
       "      <td>11/24/2023</td>\n",
       "      <td>Mr</td>\n",
       "      <td>2/10/1983</td>\n",
       "      <td>NaN</td>\n",
       "      <td>FR</td>\n",
       "      <td>France</td>\n",
       "      <td>fr_FR</td>\n",
       "      <td>NaN</td>\n",
       "      <td>0</td>\n",
       "      <td>0</td>\n",
       "    </tr>\n",
       "    <tr>\n",
       "      <th>3</th>\n",
       "      <td>14</td>\n",
       "      <td>13</td>\n",
       "      <td>1</td>\n",
       "      <td>0000-00-00 00:00:00</td>\n",
       "      <td>12/13/2016 22:35</td>\n",
       "      <td>5/5/2023</td>\n",
       "      <td>Mr</td>\n",
       "      <td>4/8/1959</td>\n",
       "      <td>NaN</td>\n",
       "      <td>FR</td>\n",
       "      <td>France</td>\n",
       "      <td>fr_FR</td>\n",
       "      <td>NaN</td>\n",
       "      <td>0</td>\n",
       "      <td>0</td>\n",
       "    </tr>\n",
       "    <tr>\n",
       "      <th>4</th>\n",
       "      <td>17</td>\n",
       "      <td>13</td>\n",
       "      <td>1</td>\n",
       "      <td>0000-00-00 00:00:00</td>\n",
       "      <td>4/14/2019 18:34</td>\n",
       "      <td>11/10/2023</td>\n",
       "      <td>Mr</td>\n",
       "      <td>0000-00-00</td>\n",
       "      <td>NaN</td>\n",
       "      <td>FR</td>\n",
       "      <td>France</td>\n",
       "      <td>fr_FR</td>\n",
       "      <td>NaN</td>\n",
       "      <td>0</td>\n",
       "      <td>0</td>\n",
       "    </tr>\n",
       "  </tbody>\n",
       "</table>\n",
       "</div>"
      ],
      "text/plain": [
       "   id_user  id_support email_is_valid        creation_date   last_login_date  \\\n",
       "0        1           1              1  0000-00-00 00:00:00    11/9/2022 1:41   \n",
       "1        6           2              1  0000-00-00 00:00:00  11/10/2022 15:35   \n",
       "2       10         172              1  0000-00-00 00:00:00   4/26/2022 14:55   \n",
       "3       14          13              1  0000-00-00 00:00:00  12/13/2016 22:35   \n",
       "4       17          13              1  0000-00-00 00:00:00   4/14/2019 18:34   \n",
       "\n",
       "  auto_reminder_date civility    birthday  timezone_offset country  \\\n",
       "0         10/13/2023       Mr    2/5/1969              NaN      FR   \n",
       "1         10/13/2023       Mr   2/26/1984              NaN      FR   \n",
       "2         11/24/2023       Mr   2/10/1983              NaN      FR   \n",
       "3           5/5/2023       Mr    4/8/1959              NaN      FR   \n",
       "4         11/10/2023       Mr  0000-00-00              NaN      FR   \n",
       "\n",
       "  country_name default_language default_currency  newsletter  \\\n",
       "0       France            en_US              NaN           1   \n",
       "1       France            fr_FR              NaN           0   \n",
       "2       France            fr_FR              NaN           0   \n",
       "3       France            fr_FR              NaN           0   \n",
       "4       France            fr_FR              NaN           0   \n",
       "\n",
       "   partners_newsletter  \n",
       "0                    1  \n",
       "1                    0  \n",
       "2                    0  \n",
       "3                    0  \n",
       "4                    0  "
      ]
     },
     "execution_count": 4,
     "metadata": {},
     "output_type": "execute_result"
    }
   ],
   "source": [
    "df_users = pd.read_csv('raw_data/Users.csv')\n",
    "df_users.head()"
   ]
  },
  {
   "cell_type": "code",
   "execution_count": 6,
   "metadata": {},
   "outputs": [
    {
     "data": {
      "text/plain": [
       "Mr       109970\n",
       "Ms        40753\n",
       "Dr.         505\n",
       "Prof.        52\n",
       "Name: civility, dtype: int64"
      ]
     },
     "execution_count": 6,
     "metadata": {},
     "output_type": "execute_result"
    }
   ],
   "source": [
    "df_users['civility'].value_counts()"
   ]
  },
  {
   "cell_type": "code",
   "execution_count": 17,
   "metadata": {},
   "outputs": [
    {
     "data": {
      "text/plain": [
       "0.004879143805996263"
      ]
     },
     "execution_count": 17,
     "metadata": {},
     "output_type": "execute_result"
    }
   ],
   "source": [
    "(505+52+182)/151461"
   ]
  },
  {
   "cell_type": "code",
   "execution_count": 10,
   "metadata": {},
   "outputs": [
    {
     "data": {
      "text/plain": [
       "0.2716866666666667"
      ]
     },
     "execution_count": 10,
     "metadata": {},
     "output_type": "execute_result"
    }
   ],
   "source": [
    "40753/150000"
   ]
  },
  {
   "cell_type": "code",
   "execution_count": 16,
   "metadata": {},
   "outputs": [
    {
     "name": "stdout",
     "output_type": "stream",
     "text": [
      "<class 'pandas.core.frame.DataFrame'>\n",
      "RangeIndex: 151462 entries, 0 to 151461\n",
      "Data columns (total 15 columns):\n",
      " #   Column               Non-Null Count   Dtype  \n",
      "---  ------               --------------   -----  \n",
      " 0   id_user              151462 non-null  int64  \n",
      " 1   id_support           151462 non-null  int64  \n",
      " 2   email_is_valid       151462 non-null  object \n",
      " 3   creation_date        151462 non-null  object \n",
      " 4   last_login_date      151462 non-null  object \n",
      " 5   auto_reminder_date   151429 non-null  object \n",
      " 6   civility             151280 non-null  object \n",
      " 7   birthday             151462 non-null  object \n",
      " 8   timezone_offset      113398 non-null  float64\n",
      " 9   country              151457 non-null  object \n",
      " 10  country_name         151462 non-null  object \n",
      " 11  default_language     151462 non-null  object \n",
      " 12  default_currency     143177 non-null  object \n",
      " 13  newsletter           151462 non-null  int64  \n",
      " 14  partners_newsletter  151462 non-null  int64  \n",
      "dtypes: float64(1), int64(4), object(10)\n",
      "memory usage: 17.3+ MB\n"
     ]
    }
   ],
   "source": [
    "df_users.info()"
   ]
  },
  {
   "cell_type": "code",
   "execution_count": 15,
   "metadata": {},
   "outputs": [
    {
     "data": {
      "text/plain": [
       "(182, 15)"
      ]
     },
     "execution_count": 15,
     "metadata": {},
     "output_type": "execute_result"
    }
   ],
   "source": [
    "df_users[df_users['civility'].isna()]\n"
   ]
  },
  {
   "cell_type": "code",
   "execution_count": 18,
   "metadata": {},
   "outputs": [],
   "source": [
    "from sklearn.impute import SimpleImputer\n",
    "imputer = SimpleImputer(strategy="
   ]
  },
  {
   "cell_type": "code",
   "execution_count": null,
   "metadata": {},
   "outputs": [],
   "source": []
  }
 ],
 "metadata": {
  "kernelspec": {
   "display_name": "salefriend",
   "language": "python",
   "name": "python3"
  },
  "language_info": {
   "codemirror_mode": {
    "name": "ipython",
    "version": 3
   },
   "file_extension": ".py",
   "mimetype": "text/x-python",
   "name": "python",
   "nbconvert_exporter": "python",
   "pygments_lexer": "ipython3",
   "version": "3.10.6 (main, Jan 14 2023, 13:52:27) [Clang 14.0.0 (clang-1400.0.29.102)]"
  },
  "orig_nbformat": 4,
  "vscode": {
   "interpreter": {
    "hash": "1962c04251eda3144d7556d2921d1eaedfecf140742276de4579043b49472502"
   }
  }
 },
 "nbformat": 4,
 "nbformat_minor": 2
}
